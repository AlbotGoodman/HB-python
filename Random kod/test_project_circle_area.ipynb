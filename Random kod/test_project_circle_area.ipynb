{
 "cells": [
  {
   "cell_type": "markdown",
   "id": "db5b4850",
   "metadata": {},
   "source": [
    "### Program som beräknar cirkelns area"
   ]
  },
  {
   "cell_type": "code",
   "execution_count": 15,
   "id": "f98a65a5",
   "metadata": {},
   "outputs": [
    {
     "name": "stdout",
     "output_type": "stream",
     "text": [
      "Ange radien: 5\n",
      "Arean blev: 78.53750000000001\n"
     ]
    }
   ],
   "source": [
    "#Program som beräknar cirkelns area\n",
    "PI=3.1415                               #Närmevärde på pi\n",
    "radie=float(input('Ange radien: '))     #Matar in ett värde på radien\n",
    "print('Arean blev:', PI*radie**2)       #Beräknar arean och skriver ut resultatet på skärmen"
   ]
  },
  {
   "cell_type": "code",
   "execution_count": null,
   "id": "9fb9a890",
   "metadata": {},
   "outputs": [],
   "source": []
  }
 ],
 "metadata": {
  "kernelspec": {
   "display_name": "Python 3 (ipykernel)",
   "language": "python",
   "name": "python3"
  },
  "language_info": {
   "codemirror_mode": {
    "name": "ipython",
    "version": 3
   },
   "file_extension": ".py",
   "mimetype": "text/x-python",
   "name": "python",
   "nbconvert_exporter": "python",
   "pygments_lexer": "ipython3",
   "version": "3.9.13"
  }
 },
 "nbformat": 4,
 "nbformat_minor": 5
}
