{
 "cells": [
  {
   "cell_type": "code",
   "execution_count": null,
   "id": "d51a090e",
   "metadata": {},
   "outputs": [],
   "source": [
    "import kortlek\n",
    "\n",
    "def fortsätta(fråga):\n",
    "    s=input(fråga+'? ')\n",
    "    return len(s) > 0 and (s[0]=='j' or s[0]=='J')\n",
    "\n",
    "lek=kortlek.ny()\n",
    "while fortsätta('Vill du fortsätta') and len(lek) > 0:\n",
    "    kort=kortlek.ge(lek)\n",
    "    print('Du fick ',end='')\n",
    "    kortlek.visa(kort)"
   ]
  }
 ],
 "metadata": {
  "kernelspec": {
   "display_name": "Python 3 (ipykernel)",
   "language": "python",
   "name": "python3"
  },
  "language_info": {
   "codemirror_mode": {
    "name": "ipython",
    "version": 3
   },
   "file_extension": ".py",
   "mimetype": "text/x-python",
   "name": "python",
   "nbconvert_exporter": "python",
   "pygments_lexer": "ipython3",
   "version": "3.9.13"
  }
 },
 "nbformat": 4,
 "nbformat_minor": 5
}
