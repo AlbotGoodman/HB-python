{
 "cells": [
  {
   "cell_type": "markdown",
   "id": "c716f114",
   "metadata": {},
   "source": [
    "# Mitt bidrag"
   ]
  },
  {
   "cell_type": "code",
   "execution_count": 13,
   "id": "ad3f4d07",
   "metadata": {},
   "outputs": [
    {
     "name": "stdout",
     "output_type": "stream",
     "text": [
      "Point X1: 4\n",
      "Point X2: 5\n",
      "Point Y1: 6\n",
      "Point Y1: 7\n",
      "1.4142135623730951\n"
     ]
    }
   ],
   "source": [
    "import math\n",
    "\n",
    "a = input('Point X1: ')\n",
    "a = int(a)\n",
    "b = input('Point X2: ')\n",
    "b = int(b)\n",
    "q = input('Point Y1: ')\n",
    "q = int(q)\n",
    "y = input('Point Y1: ')\n",
    "y = int(y)\n",
    "\n",
    "s = math.sqrt(((a-b)**2)+((q-y)**2))\n",
    "print(s)"
   ]
  },
  {
   "cell_type": "markdown",
   "id": "802624c4",
   "metadata": {},
   "source": [
    "# Facit"
   ]
  },
  {
   "cell_type": "code",
   "execution_count": 2,
   "id": "d0af7246",
   "metadata": {},
   "outputs": [
    {
     "name": "stdout",
     "output_type": "stream",
     "text": [
      "x1? 4\n",
      "y1? 6\n",
      "x2? 5\n",
      "y2? 7\n",
      "Avstånd: 1.41\n"
     ]
    }
   ],
   "source": [
    "import math\n",
    "x1 = float(input('x1? '))\n",
    "y1 = float(input('y1? '))\n",
    "x2 = float(input('x2? '))\n",
    "y2 = float(input('y2? '))\n",
    "d = math.sqrt((x1-x2)**2 + (y1-y2)**2)\n",
    "print(f'Avstånd: {d:.2f}')"
   ]
  },
  {
   "cell_type": "code",
   "execution_count": null,
   "id": "db62d7ea",
   "metadata": {},
   "outputs": [],
   "source": []
  }
 ],
 "metadata": {
  "kernelspec": {
   "display_name": "Python 3 (ipykernel)",
   "language": "python",
   "name": "python3"
  },
  "language_info": {
   "codemirror_mode": {
    "name": "ipython",
    "version": 3
   },
   "file_extension": ".py",
   "mimetype": "text/x-python",
   "name": "python",
   "nbconvert_exporter": "python",
   "pygments_lexer": "ipython3",
   "version": "3.9.13"
  }
 },
 "nbformat": 4,
 "nbformat_minor": 5
}
