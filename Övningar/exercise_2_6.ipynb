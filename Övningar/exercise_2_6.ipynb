{
 "cells": [
  {
   "cell_type": "markdown",
   "id": "58af11a7",
   "metadata": {},
   "source": [
    "# Mitt bidrag\n",
    "### (Jag fuskade genom att titta på facit först)"
   ]
  },
  {
   "cell_type": "code",
   "execution_count": 18,
   "id": "ded52b31",
   "metadata": {},
   "outputs": [
    {
     "name": "stdout",
     "output_type": "stream",
     "text": [
      "How many years has this decayed? 123\n",
      "Remaining percentage of your isotope is 98.5 %\n"
     ]
    }
   ],
   "source": [
    "import math\n",
    "\n",
    "lam = (math.log(2))/5730\n",
    "S = float(input('How many years has this decayed? '))\n",
    "n0 = 100\n",
    "n = n0 * math.exp(-lam * S)\n",
    "print(f'Remaining percentage of your isotope is {n:.1f}','%')"
   ]
  },
  {
   "cell_type": "markdown",
   "id": "b27ca995",
   "metadata": {},
   "source": [
    "# Facit"
   ]
  },
  {
   "cell_type": "code",
   "execution_count": 19,
   "id": "3e0357e3",
   "metadata": {},
   "outputs": [
    {
     "name": "stdout",
     "output_type": "stream",
     "text": [
      "Antal år? 123\n",
      "Det återstår 98.5 %\n"
     ]
    }
   ],
   "source": [
    "import math\n",
    "t = int(input('Antal år? '))\n",
    "lam = math.log(2.0) / 5730\n",
    "n0 = 100   # 100 % från början\n",
    "rest = n0 * math.exp(-lam * t)\n",
    "print(f'Det återstår {rest:.1f} %')"
   ]
  },
  {
   "cell_type": "code",
   "execution_count": null,
   "id": "e4ec5c8a",
   "metadata": {},
   "outputs": [],
   "source": []
  }
 ],
 "metadata": {
  "kernelspec": {
   "display_name": "Python 3 (ipykernel)",
   "language": "python",
   "name": "python3"
  },
  "language_info": {
   "codemirror_mode": {
    "name": "ipython",
    "version": 3
   },
   "file_extension": ".py",
   "mimetype": "text/x-python",
   "name": "python",
   "nbconvert_exporter": "python",
   "pygments_lexer": "ipython3",
   "version": "3.9.13"
  }
 },
 "nbformat": 4,
 "nbformat_minor": 5
}
