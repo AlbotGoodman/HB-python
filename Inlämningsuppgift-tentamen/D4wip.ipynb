{
 "cells": [
  {
   "cell_type": "code",
   "execution_count": 1,
   "id": "314ab5ca",
   "metadata": {},
   "outputs": [],
   "source": [
    "# \n",
    "# en variant av deluppgift 1 bara för att få fram listorna. \n",
    "# \n",
    "\n",
    "import csv\n",
    "\n",
    "def read_file(x):\n",
    "    with open(x, 'r', encoding='UTF-8') as file:\n",
    "        data_list = []\n",
    "        csv_reader = csv.reader(file, delimiter = ';')\n",
    "        for rad in csv_reader:\n",
    "            data_list.append(rad)\n",
    "        return data_list\n",
    "\n",
    "file1 = 'livsmedel-1.csv'                                     \n",
    "livsmedelData = read_file(file1)   \n",
    "\n",
    "file2 = 'tjänster-1.csv'\n",
    "tjansteData = read_file(file2)   \n",
    "\n",
    "\n",
    "\n",
    "import numpy as np\n",
    "import matplotlib.pyplot as plt\n",
    "\n",
    "# För att slippa de långa namnen\n",
    "LD = livsmedelData\n",
    "TD = tjansteData"
   ]
  },
  {
   "cell_type": "code",
   "execution_count": 2,
   "id": "35bc4e11",
   "metadata": {},
   "outputs": [],
   "source": [
    "del LD[0]                                    # Ta bort årtalen\n",
    "del TD[0] \n",
    "\n",
    "\n",
    "LDkat = []\n",
    "TDkat = []\n",
    "for row in LD:                               # Plocka ut kategorierna och lägg i varsin variabel\n",
    "    LDkat.append(row[0])\n",
    "    del row[0]\n",
    "for row in TD:\n",
    "    TDkat.append(row[0])\n",
    "    del row[0]\n",
    "\n",
    "    \n",
    "for a in LD:                                 # Gör om data till floats\n",
    "    for b, c in enumerate(a):\n",
    "        a[b] = float(c)\n",
    "for a in TD: \n",
    "    for b, c in enumerate(a):\n",
    "        a[b] = float(c)\n",
    "\n",
    "\n",
    "LDmax = []                                   # Plocka ut en lista av slutvärdet per rad\n",
    "TDmax = []\n",
    "for row in LD:\n",
    "    LDmax.append(row[len(row)-1])\n",
    "for row in TD:\n",
    "    TDmax.append(row[len(row)-1])\n",
    "\n",
    "    \n",
    "LDpro = []                                   # Maxvärdet minus originalvärdet för att få ökningen \n",
    "TDpro = []\n",
    "for row in LDmax:\n",
    "    row = row-100\n",
    "    LDpro.append(row)\n",
    "for row in TDmax:\n",
    "    row = row-100\n",
    "    TDpro.append(row)"
   ]
  },
  {
   "cell_type": "code",
   "execution_count": 97,
   "id": "fc12f953",
   "metadata": {},
   "outputs": [
    {
     "ename": "SyntaxError",
     "evalue": "f-string: expecting '}' (141073470.py, line 14)",
     "output_type": "error",
     "traceback": [
      "\u001b[1;36m  File \u001b[1;32m\"C:\\Users\\Andrew\\AppData\\Local\\Temp\\ipykernel_10548\\141073470.py\"\u001b[1;36m, line \u001b[1;32m14\u001b[0m\n\u001b[1;33m    print(f'{p}{row:41}{p}{TDpro[c]:.2f}{'':31}{p}')\u001b[0m\n\u001b[1;37m                                                   ^\u001b[0m\n\u001b[1;31mSyntaxError\u001b[0m\u001b[1;31m:\u001b[0m f-string: expecting '}'\n"
     ]
    }
   ],
   "source": [
    "    kolumn1_1 = 'Kategorier av varor och tjänster'\n",
    "    kolumn1_2 = 'Kategorier av olika typer av livsmedel'\n",
    "    kolumn2 = 'Prisutvecklingen i procentform'\n",
    "    p = '|'\n",
    "    outliner = '+-------------------------------------------------------------------------+'\n",
    "    oneliner = '+-----------------------------------------+-------------------------------+'\n",
    "    twoliner = '+=========================================+===============================+'\n",
    "    \n",
    "    print(outliner)\n",
    "    print(f'{p}{kolumn1_1:41}{p}{kolumn2:31}{p}')\n",
    "    print(twoliner)\n",
    "    c = 0\n",
    "    for row in TDkat:\n",
    "        print(f'{p}{row:41}{p}{TDpro[c]:.2f}{'':31}{p}')\n",
    "        print(oneliner)\n",
    "        c = c + 1\n",
    "    print(outliner)\n",
    "    print(f'{p}{kolumn1_2:41}{p}{kolumn2:31}{p}')\n",
    "    print(twoliner)\n",
    "    c = 0\n",
    "    for row in LDkat:\n",
    "        print(f'{p}{row:41}{p}{LDpro[c]:.2f}')\n",
    "        print(oneliner)\n",
    "        c = c + 1"
   ]
  },
  {
   "cell_type": "code",
   "execution_count": null,
   "id": "22592951",
   "metadata": {},
   "outputs": [],
   "source": []
  }
 ],
 "metadata": {
  "kernelspec": {
   "display_name": "Python 3 (ipykernel)",
   "language": "python",
   "name": "python3"
  },
  "language_info": {
   "codemirror_mode": {
    "name": "ipython",
    "version": 3
   },
   "file_extension": ".py",
   "mimetype": "text/x-python",
   "name": "python",
   "nbconvert_exporter": "python",
   "pygments_lexer": "ipython3",
   "version": "3.9.13"
  }
 },
 "nbformat": 4,
 "nbformat_minor": 5
}
