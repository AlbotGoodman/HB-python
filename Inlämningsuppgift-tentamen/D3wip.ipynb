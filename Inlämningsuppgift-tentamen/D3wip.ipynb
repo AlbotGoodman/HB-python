{
 "cells": [
  {
   "cell_type": "code",
   "execution_count": 1,
   "id": "90236d87",
   "metadata": {},
   "outputs": [
    {
     "data": {
      "text/plain": [
       "\"\\nx = []\\ny = []\\n\\nfor row in livsmedelData:\\n    x.append(row[0])\\n    y.append(float(row[2]))\\n\\nplt.bar(x, y, color = 'g', width = 0.72, label = 'Age')\\nplt.xlabel('Names')\\nplt.ylabel('Ages')\\nplt.title('Ages of different people')\\nplt.legend()\\nplt.show()\\n\""
      ]
     },
     "execution_count": 1,
     "metadata": {},
     "output_type": "execute_result"
    }
   ],
   "source": [
    "# ----------------------------------------------------------------------------------------------------------------------- #\n",
    "# en variant av deluppgift 1 bara för att få fram listorna. \n",
    "\n",
    "import csv\n",
    "import numpy as np\n",
    "import matplotlib.pyplot as plt\n",
    "\n",
    "def read_file(x):\n",
    "    with open(x, 'r', encoding='UTF-8') as file:\n",
    "        data_list = []\n",
    "        csv_reader = csv.reader(file, delimiter = ';')\n",
    "        for rad in csv_reader:\n",
    "            data_list.append(rad)\n",
    "        return data_list\n",
    "\n",
    "file1 = 'livsmedel-1.csv'                                     \n",
    "livsmedelData = read_file(file1)   \n",
    "\n",
    "file2 = 'tjänster-1.csv'\n",
    "tjansteData = read_file(file2)   \n",
    "\n",
    "# ----------------------------------------------------------------------------------------------------------------------- #\n",
    "'''\n",
    "def plotta_data(q):\n",
    "    x = q.pop(0)                                   # Plockar årtalen som x-värde till grafen. \n",
    "    y1 = []\n",
    "    y2 = []\n",
    "    y3 = []\n",
    "    y4 = []\n",
    "    y5 = []\n",
    "    y6 = []\n",
    "    y7 = []\n",
    "    y8 = []\n",
    "    return x,y1,y2,y3,y4,y5,y6,y7,y8\n",
    "\n",
    "q = input('Vilken data önskas plottas? (livsmedelData/tjansteData): ')\n",
    "x,y1,y2,y3,y4,y5,y6,y7,y8 = plotta_data(q)\n",
    "'''\n",
    "# ----------------------------------------------------------------------------------------------------------------------- #\n",
    "'''\n",
    "x = []\n",
    "y = []\n",
    "\n",
    "for row in livsmedelData:\n",
    "    x.append(row[0])\n",
    "    y.append(float(row[2]))\n",
    "\n",
    "plt.bar(x, y, color = 'g', width = 0.72, label = 'Age')\n",
    "plt.xlabel('Names')\n",
    "plt.ylabel('Ages')\n",
    "plt.title('Ages of different people')\n",
    "plt.legend()\n",
    "plt.show()\n",
    "'''\n",
    "\n",
    "# ----------------------------------------------------------------------------------------------------------------------- #\n",
    "\n"
   ]
  },
  {
   "cell_type": "code",
   "execution_count": 2,
   "id": "9537d641",
   "metadata": {},
   "outputs": [],
   "source": [
    "def plotta_data(y):\n",
    "    x = y.pop(0)\n",
    "    del x[0]\n",
    "    x = [int(w) for w in x]\n",
    "    labels = []\n",
    "    for row in y:\n",
    "        labels.append(row[0])\n",
    "        del row[0]\n",
    "    for a in y:\n",
    "        for b, c in enumerate(a):\n",
    "            a[b] = float(c)\n",
    "    return x, labels, y"
   ]
  },
  {
   "cell_type": "code",
   "execution_count": 3,
   "id": "05ce784f",
   "metadata": {},
   "outputs": [
    {
     "data": {
      "text/plain": [
       "\"\\nplt.plot(x, y)\\n\\nplt.title('Prisutveckling år 1980-2022')\\nplt.xlabel('År')\\nplt.ylabel('Prisutveckling')\\nb = plt.gca()\\nb.set_facecolor('whitesmoke')\\nplt.legend()\\nplt.show()\\n\""
      ]
     },
     "execution_count": 3,
     "metadata": {},
     "output_type": "execute_result"
    }
   ],
   "source": [
    "x, labels, y = plotta_data(tjansteData)\n",
    "#print(y)\n",
    "'''\n",
    "plt.plot(x, y)\n",
    "\n",
    "plt.title('Prisutveckling år 1980-2022')\n",
    "plt.xlabel('År')\n",
    "plt.ylabel('Prisutveckling')\n",
    "b = plt.gca()\n",
    "b.set_facecolor('whitesmoke')\n",
    "plt.legend()\n",
    "plt.show()\n",
    "'''"
   ]
  },
  {
   "cell_type": "code",
   "execution_count": 4,
   "id": "7c513623",
   "metadata": {},
   "outputs": [
    {
     "data": {
      "text/plain": [
       "7"
      ]
     },
     "execution_count": 4,
     "metadata": {},
     "output_type": "execute_result"
    }
   ],
   "source": [
    "len(y)"
   ]
  },
  {
   "cell_type": "code",
   "execution_count": null,
   "id": "948266d0",
   "metadata": {},
   "outputs": [],
   "source": [
    "a = y[0]\n",
    "b = y[1]\n",
    "c = y[2]\n",
    "d = y[3]\n",
    "e = y[4]\n",
    "f = y[5]\n",
    "g = y[6]\n",
    "if len(y) == 8:\n",
    "    h = y[7]"
   ]
  },
  {
   "cell_type": "code",
   "execution_count": null,
   "id": "b36a8dab",
   "metadata": {},
   "outputs": [],
   "source": [
    "plt.plot(x, a, color = 'red', label = labels[0])         # Kanske kan label vara ett element? \n",
    "plt.plot(x, b, color = 'orange', label = labels[1])\n",
    "plt.plot(x, c, color = 'gold', label = labels[2])\n",
    "plt.plot(x, d, color = 'green', label = labels[3])\n",
    "plt.plot(x, e, color = 'blue', label = labels[4])\n",
    "plt.plot(x, f, color = 'indigo', label = labels[5])\n",
    "plt.plot(x, g, color = 'violet', label = labels[6])\n",
    "if len(y) == 8:\n",
    "    plt.plot(x, h, color = 'black', label = labels[7])      # Den åttonde linjen kommer inte finnas i tjansteData\n",
    "\n",
    "plt.title('Prisutveckling år 1980-2022')\n",
    "plt.xlabel('År')\n",
    "plt.ylabel('Prisutveckling')\n",
    "b = plt.gca()\n",
    "b.set_facecolor('whitesmoke')\n",
    "plt.legend()\n",
    "plt.show()"
   ]
  },
  {
   "cell_type": "code",
   "execution_count": null,
   "id": "a016c31b",
   "metadata": {},
   "outputs": [],
   "source": []
  }
 ],
 "metadata": {
  "kernelspec": {
   "display_name": "Python 3 (ipykernel)",
   "language": "python",
   "name": "python3"
  },
  "language_info": {
   "codemirror_mode": {
    "name": "ipython",
    "version": 3
   },
   "file_extension": ".py",
   "mimetype": "text/x-python",
   "name": "python",
   "nbconvert_exporter": "python",
   "pygments_lexer": "ipython3",
   "version": "3.9.13"
  }
 },
 "nbformat": 4,
 "nbformat_minor": 5
}
