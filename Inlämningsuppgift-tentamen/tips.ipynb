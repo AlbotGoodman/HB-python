{
 "cells": [
  {
   "cell_type": "code",
   "execution_count": null,
   "id": "c9f6b86e",
   "metadata": {},
   "outputs": [],
   "source": [
    "# DONE - att summera varje rad i en 2D-lista\n",
    "\n",
    "l = [[1,2,3,4,5],\n",
    "     [6,7,8,9,10],\n",
    "     [11,12,13,14,15],\n",
    "     [16,17,18,19,20],\n",
    "     [21,22,23,24,25]]\n",
    "ls = [sum(x) for x in l]\n",
    "print(ls)"
   ]
  },
  {
   "cell_type": "code",
   "execution_count": null,
   "id": "ce7f97b3",
   "metadata": {},
   "outputs": [],
   "source": [
    "# En längre variant av att summera varje rad i en 2D-lista\n",
    "\n",
    "v = [[1,2,3,4,5],\n",
    "     [6,7,8,9,10],\n",
    "     [11,12,13,14,15],\n",
    "     [16,17,18,19,20],\n",
    "     [21,22,23,24,25]]\n",
    "vs = []\n",
    "for row in v:\n",
    "    total = 0\n",
    "    for item in row:\n",
    "        total += item\n",
    "    vs.append(total)\n",
    "print(vs)\n"
   ]
  },
  {
   "cell_type": "code",
   "execution_count": null,
   "id": "da13dcd0",
   "metadata": {},
   "outputs": [],
   "source": [
    "# Gör om en 2D-lista från string/integer till float. \n",
    "\n",
    "v = [['1','2','3','4','5'],\n",
    "     ['6','7','8','9','10'],\n",
    "     ['11','12','13','14','15'],\n",
    "     ['16','17','18','19','20'],\n",
    "     ['21','22','23','24','25']]\n",
    "for a in range(len(v)):\n",
    "    for b in range(len(v)):\n",
    "        v[a][b] = float(v[a][b])\n",
    "print(v)\n"
   ]
  },
  {
   "cell_type": "code",
   "execution_count": null,
   "id": "3c0f1193",
   "metadata": {},
   "outputs": [],
   "source": [
    "# Gör om en 2D-lista från string/integer till float. \n",
    "\n",
    "v = [['1','2','3','4','5'],\n",
    "     ['6','7','8','9','10'],\n",
    "     ['11','12','13','14','15'],\n",
    "     ['16','17','18','19','20'],\n",
    "     ['21','22','23','24','25']]\n",
    "\n",
    "for inner in v:\n",
    "    for index, string in enumerate(inner):\n",
    "        inner[index] = float(string)\n",
    "print(v)\n"
   ]
  },
  {
   "cell_type": "code",
   "execution_count": null,
   "id": "8435401a",
   "metadata": {},
   "outputs": [],
   "source": [
    "# Gör om en 2D-lista med både siffror och bokstäver till en ny lista som innehåller både floats och strings\n",
    "\n",
    "def string_list_to_float(input_list):\n",
    "    float_list = []\n",
    "    for sublist in input_list:\n",
    "        float_sublist = []\n",
    "        for string in sublist:\n",
    "            try:\n",
    "                float_sublist.append(float(string))\n",
    "            except ValueError:\n",
    "                float_sublist.append(string)\n",
    "        float_list.append(float_sublist)\n",
    "    return float_list\n",
    "\n",
    "string_list = [['år', 'jan', 'feb', 'mar'],\n",
    "               [1981, 12, 23, 34],\n",
    "               [1982, 45, 56, 67]]\n",
    "float_list = string_list_to_float(string_list)\n",
    "print(float_list)"
   ]
  },
  {
   "cell_type": "code",
   "execution_count": 1,
   "id": "98823bce",
   "metadata": {},
   "outputs": [
    {
     "name": "stdout",
     "output_type": "stream",
     "text": [
      "[1981, 1982]\n"
     ]
    }
   ],
   "source": [
    "# Plocka ut vissa element med hjälp av for-sats och indexering. \n",
    "\n",
    "lista = [['år', 'jan', 'feb', 'mar'],\n",
    "         [1981, 12, 23, 34],\n",
    "         [1982, 45, 56, 67]]\n",
    "arTal = []\n",
    "for i in range(1, len(lista)):\n",
    "    for j in range(0, 1):\n",
    "        arTal.append(lista[i][j])\n",
    "print(arTal)\n"
   ]
  },
  {
   "cell_type": "code",
   "execution_count": null,
   "id": "ba89805a",
   "metadata": {},
   "outputs": [],
   "source": [
    "# Ta bort vissa element med hjälp av en for-sats\n",
    "\n",
    "lista = [['år', 'jan', 'feb', 'mar'],\n",
    "         [1981, 12, 23, 34],\n",
    "         [1982, 45, 56, 67], \n",
    "         [1983, 78, 89, 90]]\n",
    "for i in range(1, len(lista)):\n",
    "         for j in range(0, 1):\n",
    "             del (lista[i][j])\n",
    "print(lista)\n"
   ]
  },
  {
   "cell_type": "code",
   "execution_count": null,
   "id": "830ba487",
   "metadata": {},
   "outputs": [],
   "source": [
    "# Exempel på en tabell\n",
    "\n",
    "titel = 'Säljstatistik för skruv, mutter, och brickor år 2021'\n",
    "print(f'{titel:^100}')\n",
    "\n",
    "str_1 = '===================================================='\n",
    "print(f'{str_1:^100}')\n",
    "\n",
    "print(f'{\"Produkt\":<20}{\"Q1\":>15}{\"Q2\":>15}{\"Q3\":>15}{\"Q4\":>15}{\"Summa\":>15}')\n",
    "\n",
    "print('-------------------------------------------------------------------------------------------------')\n",
    "\n",
    "# Antal försålda skruvar per kvartal:\n",
    "Q1_s = 20000\n",
    "Q2_s = 32000\n",
    "Q3_s = 23000\n",
    "Q4_s = 19000\n",
    "print(f'{\"Skruv M6\":<20}{Q1_s:>15}{Q2_s:>15}{Q3_s:>15}{Q4_s:>15}{Q1_s + Q2_s + Q3_s + Q4_s:>15}')\n",
    "      \n",
    "Q1_m = 21900\n",
    "Q2_m = 27700\n",
    "Q3_m = 32200\n",
    "Q4_m = 35800\n",
    "print(f'{\"Mutter M6\":<20}{Q1_m:>15}{Q2_m:>15}{Q3_m:>15}{Q4_m:>15}{Q1_m + Q2_m + Q3_m + Q4_m:>15}')\n",
    "\n",
    "Q1_b = 21900\n",
    "Q2_b = 27700\n",
    "Q3_b = 32200\n",
    "Q4_b = 35800\n",
    "print(f'{\"Bricka M6\":<20}{Q1_b:>15}{Q2_b:>15}{Q3_b:>15}{Q4_b:>15}{Q1_b + Q2_b + Q3_b + Q4_b:>15}')"
   ]
  },
  {
   "cell_type": "code",
   "execution_count": null,
   "id": "6d287557",
   "metadata": {},
   "outputs": [],
   "source": []
  }
 ],
 "metadata": {
  "kernelspec": {
   "display_name": "Python 3 (ipykernel)",
   "language": "python",
   "name": "python3"
  },
  "language_info": {
   "codemirror_mode": {
    "name": "ipython",
    "version": 3
   },
   "file_extension": ".py",
   "mimetype": "text/x-python",
   "name": "python",
   "nbconvert_exporter": "python",
   "pygments_lexer": "ipython3",
   "version": "3.9.13"
  }
 },
 "nbformat": 4,
 "nbformat_minor": 5
}
