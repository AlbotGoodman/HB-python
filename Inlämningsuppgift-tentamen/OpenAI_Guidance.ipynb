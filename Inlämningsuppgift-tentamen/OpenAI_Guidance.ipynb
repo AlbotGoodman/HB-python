{
 "cells": [
  {
   "cell_type": "code",
   "execution_count": 1,
   "id": "469e640c",
   "metadata": {},
   "outputs": [],
   "source": [
    "import csv\n",
    "\n",
    "# En funktion som öppnar en CSV-fil och skapar en lista av innehållet. \n",
    "def read_file(x):\n",
    "    with open(x, 'r', encoding='UTF-8') as file:\n",
    "        data_list = []                      \n",
    "        csv_reader = csv.reader(file, delimiter = ';')\n",
    "        for rad in csv_reader:                                  \n",
    "            data_list.append(rad)                               \n",
    "        return data_list\n",
    "\n",
    "\n",
    "file1 = 'kpi-1.csv'\n",
    "kpiData = read_file(file1) \n",
    "\n",
    "        \n",
    "\n",
    "file2 = 'livsmedel-1.csv'\n",
    "livsmedelData = read_file(file2) \n",
    "\n",
    "        \n",
    "\n",
    "file3 = 'tjänster-1.csv'\n",
    "tjansteData = read_file(file3) "
   ]
  },
  {
   "cell_type": "code",
   "execution_count": 2,
   "id": "d0d895a9",
   "metadata": {},
   "outputs": [
    {
     "name": "stdout",
     "output_type": "stream",
     "text": [
      "['Mar', '359.8', '339.54', '333.91', '331.79', '325.76', '319.68', '315.7', '313.19', '312.68', '314.65', '314.8', '310.11', '302.32', '298.8', '298.08', '288.33', '282.89', '279.8', '279.4', '279.8', '271.8', '264.6', '259.9', '257.3', '257', '255.2', '257', '253.3', '246.8', '242.7', '231.3', '225.8', '205.4', '184.7', '173.7', '164.7', '158.7', '152.1', '140.9', '129.3', '119.3', '109.8', '97.2']\n",
      "['Okt', '346.44', '336.97', '336.04', '330.72', '323.38', '318', '314.29', '314.02', '314.4', '314.59', '313.42', '305.57', '301.11', '305.56', '293.85', '286.07', '282.4', '281', '278.9', '275.4', '269.1', '262.6', '259.7', '257.3', '259.6', '255.9', '256.9', '251', '245.2', '235.1', '230.1', '213.4', '191.8', '180.2', '170.1', '161.9', '155.5', '145.5', '135.6', '124.6', '115', '104.2']\n"
     ]
    }
   ],
   "source": [
    "# Deluppgift 2\n",
    "# Nedan: en funktion för att plocka ut en kolumn, oavsett om det saknas data i ett element eller inte \n",
    "# Möjlig lösning för de månader som saknar data från 2022\n",
    "# Möjligen en lösning även i senare deluppgifter, kanske måste anpassas dock\n",
    "\n",
    "def create_column_list(input_list, column):\n",
    "    column_list = []\n",
    "    for sublist in input_list:\n",
    "        if column < len(sublist):  # Check if sublist has an element at the specified index\n",
    "            column_list.append(sublist[column])\n",
    "    return column_list\n",
    "\n",
    "# Example usage\n",
    "input_list = kpiData\n",
    "column_0 = create_column_list(input_list, 3)\n",
    "print(column_0)  \n",
    "column_1 = create_column_list(input_list, 10)\n",
    "print(column_1)  \n"
   ]
  },
  {
   "cell_type": "code",
   "execution_count": null,
   "id": "154bead3",
   "metadata": {},
   "outputs": [],
   "source": [
    "# Deluppgift 5\n",
    "# Får TypeError men jag tror OpenAI är något på g. \n",
    "\n",
    "def create_maximum_percentage_change_table(input_list):\n",
    "    # Create table header\n",
    "    header = ['Year', 'Month', 'Maximum Percentage Change']\n",
    "    table = [header]\n",
    "\n",
    "    # Iterate over rows and columns\n",
    "    for i in range(1, len(input_list)):  # Starting from second row\n",
    "        year = input_list[i][0]  # First element is the year\n",
    "        max_percentage_change = 0\n",
    "        max_month = None\n",
    "        for j in range(1, len(input_list[i])):  # Starting from second element\n",
    "            current = input_list[i][j]\n",
    "            previous = input_list[i-1][j]\n",
    "            percentage_change = (current - previous) / previous * 100\n",
    "            if percentage_change > max_percentage_change:\n",
    "                max_percentage_change = percentage_change\n",
    "                max_month = input_list[0][j]  # Month is in first row\n",
    "\n",
    "input_list = [    ['Year', 'January', 'February', 'March'],\n",
    "    ['2020', 100, 105, 110],\n",
    "    ['2021', 120, 125, 130],\n",
    "    ['2022', 140, 145, 150],\n",
    "]\n",
    "\n",
    "create_maximum_percentage_change_table(input_list)"
   ]
  },
  {
   "cell_type": "code",
   "execution_count": null,
   "id": "7a7f79d1",
   "metadata": {},
   "outputs": [],
   "source": []
  }
 ],
 "metadata": {
  "kernelspec": {
   "display_name": "Python 3 (ipykernel)",
   "language": "python",
   "name": "python3"
  },
  "language_info": {
   "codemirror_mode": {
    "name": "ipython",
    "version": 3
   },
   "file_extension": ".py",
   "mimetype": "text/x-python",
   "name": "python",
   "nbconvert_exporter": "python",
   "pygments_lexer": "ipython3",
   "version": "3.9.13"
  }
 },
 "nbformat": 4,
 "nbformat_minor": 5
}
