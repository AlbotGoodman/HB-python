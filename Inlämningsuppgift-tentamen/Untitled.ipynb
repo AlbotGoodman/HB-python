{
 "cells": [
  {
   "cell_type": "code",
   "execution_count": 81,
   "id": "3756c049",
   "metadata": {},
   "outputs": [
    {
     "name": "stdout",
     "output_type": "stream",
     "text": [
      "4.52\n"
     ]
    }
   ],
   "source": [
    "- lättläst\n",
    "- kommenterad\n",
    "- meningsfullt namngivna variabler\n",
    "- inga felmeddelanden vid inlämning\n",
    "- inte lämna bortkommenterad kod\n",
    "- gör så mycket du kan för delpoäng"
   ]
  },
  {
   "cell_type": "markdown",
   "id": "2341f16a",
   "metadata": {},
   "source": [
    "# \n",
    "# \n",
    "# "
   ]
  },
  {
   "cell_type": "code",
   "execution_count": 83,
   "id": "19032773",
   "metadata": {},
   "outputs": [
    {
     "name": "stdout",
     "output_type": "stream",
     "text": [
      "Hur mycket pengar har du? 1\n",
      "Hur gammal är du? 30\n",
      "Du har inte råd\n"
     ]
    }
   ],
   "source": [
    "money = int(input('Hur mycket pengar har du? '))\n",
    "age = int(input('Hur gammal är du? '))\n",
    "afford = False\n",
    "if age >= 18:\n",
    "    if money >= 50:\n",
    "        afford = True\n",
    "if money >= 25:\n",
    "    afford = True\n",
    "if afford:\n",
    "    print('Du har råd.')\n",
    "else:\n",
    "    afford = False\n",
    "    print('Du har inte råd')"
   ]
  },
  {
   "cell_type": "code",
   "execution_count": 36,
   "id": "1abf51cd",
   "metadata": {},
   "outputs": [
    {
     "name": "stdout",
     "output_type": "stream",
     "text": [
      "149\n",
      "149\n"
     ]
    }
   ],
   "source": [
    "import random\n",
    "\n",
    "random.seed(100)\n",
    "x = random.randint(0,1000)\n",
    "print(x)\n",
    "random.seed(100)\n",
    "y = random.randint(0,1000)\n",
    "print(y)"
   ]
  },
  {
   "cell_type": "code",
   "execution_count": 7,
   "id": "d053ae6a",
   "metadata": {},
   "outputs": [
    {
     "ename": "SyntaxError",
     "evalue": "invalid decimal literal (2639013882.py, line 1)",
     "output_type": "error",
     "traceback": [
      "\u001b[1;36m  File \u001b[1;32m\"C:\\Users\\Andrew\\AppData\\Local\\Temp\\ipykernel_9048\\2639013882.py\"\u001b[1;36m, line \u001b[1;32m1\u001b[0m\n\u001b[1;33m    6_åringen = 123\u001b[0m\n\u001b[1;37m     ^\u001b[0m\n\u001b[1;31mSyntaxError\u001b[0m\u001b[1;31m:\u001b[0m invalid decimal literal\n"
     ]
    }
   ],
   "source": [
    "6_åringen = 123\n",
    "\n",
    "print(6_åringen)"
   ]
  },
  {
   "cell_type": "code",
   "execution_count": 8,
   "id": "287943a3",
   "metadata": {},
   "outputs": [
    {
     "name": "stdout",
     "output_type": "stream",
     "text": [
      "[1, 2, 5, 3, 4]\n"
     ]
    }
   ],
   "source": []
  },
  {
   "cell_type": "code",
   "execution_count": null,
   "id": "14b538b6",
   "metadata": {},
   "outputs": [],
   "source": [
    "        elif val == \"3\":\n",
    "            if data_tjansteData == None or data_livsmedelData == None:\n",
    "                continue\n",
    "            plotta_data(data_tjansteData)\n",
    "            plotta_data(data_livsmedelData)\n",
    "        elif val == \"4\":\n",
    "            if data_tjansteData == None or data_livsmedelData == None:\n",
    "                continue\n",
    "            Prisutveckling_I_Procentform(data_tjansteData, data_livsmedelData)\n",
    "        elif val == \"5\":\n",
    "            if data_kpiData == None:\n",
    "                continue\n",
    "            Månad_Varje_År_Störst_KPI_Förändringen(data_kpiData)\n",
    "        elif val == \"6\":\n",
    "            print(\"Avslutar programmet\")\n",
    "            Loop = False\n",
    "        else:\n",
    "            print(\"Okänt kommando\")\n",
    "Main()\n",
    "print(\"Programmet är avslutat\")\n"
   ]
  }
 ],
 "metadata": {
  "kernelspec": {
   "display_name": "Python 3 (ipykernel)",
   "language": "python",
   "name": "python3"
  },
  "language_info": {
   "codemirror_mode": {
    "name": "ipython",
    "version": 3
   },
   "file_extension": ".py",
   "mimetype": "text/x-python",
   "name": "python",
   "nbconvert_exporter": "python",
   "pygments_lexer": "ipython3",
   "version": "3.9.13"
  }
 },
 "nbformat": 4,
 "nbformat_minor": 5
}
