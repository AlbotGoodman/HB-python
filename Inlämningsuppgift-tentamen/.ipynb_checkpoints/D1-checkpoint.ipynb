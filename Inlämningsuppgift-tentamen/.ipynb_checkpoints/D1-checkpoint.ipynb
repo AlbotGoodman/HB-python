{
 "cells": [
  {
   "cell_type": "markdown",
   "id": "630ec03d",
   "metadata": {},
   "source": [
    "# Deluppgift 1\n",
    "### Beskrivning\n",
    "##### a) \n",
    "Skriv en egendefinierad funktion med namnet read_file som har ett angivet filnamn (t.ex.  data.csv) som inargument. Funktionen ska kopiera innehållet i det angivna filnamnet till en lista. Funktionen ska sedan returnera denna lista. \n",
    "\n",
    "Obs! csv-filerna använder semikolon (;) som avgränsningstecken.\n",
    "\n",
    "När du använder funktionen open() för att påbörja inläsningen av filerna, skicka med encoding = ’UTF-8’ som argument för att säkerställa att inläsningen lyckas, och att teckentolkningen på bl.a. åäö blir korrekt (om inte så varierar det lite hur det beter sig, beroende på operativsystem).\n",
    "\n",
    "##### b) \n",
    "Kontrollera att funktionen returnerar kopior av de filer som ska användas i inlämningsuppgiften genom att anropa funktionen read_file för varje csv-fil. Spara de returnerade listorna i listor med namnen kpiData, tjansteData och livsmedelData. Skriv därefter ut några rader i respektive listor och jämför innehållet i motsvarande csv-filer: \n",
    "\n",
    "kpiData + tjansteData + livsmedelData"
   ]
  },
  {
   "cell_type": "markdown",
   "id": "209fd1e4",
   "metadata": {},
   "source": [
    "### Tankebana \n",
    "\n",
    "Vad är uppgiften?\n",
    "- En funktion som kan öppna alla tre filer?\n",
    "- En funktion per fil som ska öppnas? \n",
    "- En funktion som öppnar en fil utefter input? \n",
    "\n",
    "Kvar att göra: \n",
    "- Hitta en smartare lösning på att öppna filer.\n",
    "    - dynamiskt namngivna variabler styrt av input? big no-no enligt internet som refererar till dictionary istället\n",
    "    - jag kan fråga om just en specifik fil ska öppnas och namnge den direkt? T ex \"Ska kpi-1.csv öppnas? J/N\". \n",
    "- och/eller namnge listorna enligt uppgiftsbeskrivningen. \n",
    "\n",
    "Eftersom jag inte vet om det blir relevant senare kanske jag ska ordna så att åäö hamnar i svensk bokstavsordning \\\n",
    "och inte enligt UTF-8. "
   ]
  },
  {
   "cell_type": "code",
   "execution_count": null,
   "id": "bb42db00",
   "metadata": {},
   "outputs": [],
   "source": [
    "import csv\n",
    "\n",
    "# En funktion som öppnar en CSV-fil och skapar en lista av innehållet. \n",
    "def read_file(x):\n",
    "    with open(x, 'r', encoding='UTF-8') as file:\n",
    "        data_list = []\n",
    "        csv_reader = csv.reader(file, delimiter = ';')\n",
    "        for rad in csv_reader:\n",
    "            data_list.append(rad)\n",
    "        return data_list\n",
    "\n",
    "file1 = input('Vilken fil ska öppnas? ')                       # Input ska motsvara den fil som ska öppnas. \n",
    "file2 = input('Vilken mer fil ska öppnas? ')                   # Jag har inget bättre förslag i nuläget hur alla tre  \n",
    "file3 = input('Vilken mer fil ska öppnas? ')                   #    filer ska öppnas.\n",
    "f1 = read_file(file1)                                          # Dessa ska förstås heta kpiData osv men jag vet inte\n",
    "f2 = read_file(file2)                                          #    hur jag ska namnge rätt fil eftersom input styr.\n",
    "f3 = read_file(file3)                                          #    f1-3 har i alla fall en lista av filens innehåll. \n",
    "print(f1[2][3])                                                # Bara för att testa så att jag får väntat värde. \n",
    "print(f2[1][2])\n",
    "print(f3[0][1])"
   ]
  },
  {
   "cell_type": "markdown",
   "id": "47622e3e",
   "metadata": {},
   "source": [
    "### Alternativt:"
   ]
  },
  {
   "cell_type": "code",
   "execution_count": null,
   "id": "73b3a7ed",
   "metadata": {},
   "outputs": [],
   "source": [
    "import csv\n",
    "\n",
    "# En funktion som öppnar en CSV-fil och skapar en lista av innehållet. \n",
    "def read_file(x):\n",
    "    with open(x, 'r', encoding='UTF-8') as file:\n",
    "        data_list = []\n",
    "        csv_reader = csv.reader(file, delimiter = ';')\n",
    "        for rad in csv_reader:\n",
    "            data_list.append(rad)\n",
    "        return data_list\n",
    "\n",
    "file1 = input('Vill du öppna filen \"kpi-1.csv\"? J/N: ')\n",
    "if file1 == 'J':\n",
    "    file1 = 'kpi-1.csv'\n",
    "    kpiData = read_file(file1) \n",
    "\n",
    "        \n",
    "file2 = input('Vill du öppna filen \"livsmedel-1.csv\"? J/N: ')\n",
    "if file2 == 'J':\n",
    "    file2 = 'livsmedel-1.csv'\n",
    "    livsmedelData = read_file(file2) \n",
    "\n",
    "        \n",
    "file3 = input('Vill du öppna filen \"tjänster-1.csv\"? J/N: ')\n",
    "if file3 == 'J':\n",
    "    file3 = 'tjänster-1.csv'\n",
    "    tjansteData = read_file(file3) \n",
    "\n",
    "\n",
    "print(kpiData[2][3])                                        \n",
    "print(livsmedelData[1][2])\n",
    "print(tjansteData[0][1])"
   ]
  },
  {
   "cell_type": "markdown",
   "id": "ff1173b3",
   "metadata": {},
   "source": [
    "### Alternativt:"
   ]
  },
  {
   "cell_type": "code",
   "execution_count": 1,
   "id": "7cbb6d25",
   "metadata": {},
   "outputs": [
    {
     "name": "stdout",
     "output_type": "stream",
     "text": [
      "Ange filnamnet du vill öppna: a\n"
     ]
    }
   ],
   "source": [
    "# Denna fungerar inte men jag ville få en oändlig loop att köra tills dess att alla tre filer angivits. \n",
    "\n",
    "import csv\n",
    "\n",
    "# En funktion som öppnar en CSV-fil och skapar en lista av innehållet. \n",
    "def read_file(x):\n",
    "    with open(x, 'r', encoding='UTF-8') as file:\n",
    "        data_list = []\n",
    "        csv_reader = csv.reader(file, delimiter = ';')\n",
    "        for rad in csv_reader:\n",
    "            data_list.append(rad)\n",
    "        return data_list\n",
    "\n",
    "\n",
    "# inkommande = input('Ange filnamnet du vill öppna: ')\n",
    "\n",
    "c = []\n",
    "clen = len(c)\n",
    "inkommande = input('Ange filnamnet du vill öppna: ')        # Initial fråga. \n",
    "if clen >= 3:                                               # Jag har även testat while. Tanken var att köra en loop så länge \"clen\" är mindre än tre.\n",
    "    if inkommande == 'kpi-1.csv':\n",
    "        kpiData = read_file(inkommande)\n",
    "        c.append(kpi)                                       # Om jag adderar ett element till listan \"c\" bara när \n",
    "    elif inkommande == 'tjanster-1.csv':\n",
    "        tjansteData = read_file(inkommande)\n",
    "        c.append(tjanster)\n",
    "    elif inkommande == 'livsmedel-1.csv':\n",
    "        livsmedelData = read_file(inkommande)\n",
    "        c.append(livsmedel)\n",
    "    else:\n",
    "        print('Den filen existerar inte.')\n",
    "    inkommande = input('Ange filnamnet du vill öppna: ')    # Tanken var att fortsätta ställa frågan så länge clen > 3. "
   ]
  },
  {
   "cell_type": "code",
   "execution_count": 2,
   "id": "b8976cf6",
   "metadata": {},
   "outputs": [
    {
     "name": "stdout",
     "output_type": "stream",
     "text": [
      "Ange filnamnet du vill öppna: q\n",
      "Felaktigt filnamn angivet, försök igen.\n",
      "Ange filnamnet du vill öppna: p\n",
      "Felaktigt filnamn angivet, försök igen.\n",
      "Ange filnamnet du vill öppna: kpi-1.csv\n",
      "Ange filnamnet du vill öppna: tjanster-1.csv\n",
      "Ange filnamnet du vill öppna: m\n",
      "Felaktigt filnamn angivet, försök igen.\n",
      "Ange filnamnet du vill öppna: livsmedel-1.csv\n"
     ]
    }
   ],
   "source": [
    "klocka = 0\n",
    "korrekta_filnamn = ['kpi-1.csv', 'tjanster-1.csv', 'livsmedel-1.csv']\n",
    "while klocka < 3:\n",
    "    filnamn = input('Ange filnamnet du vill öppna: ')\n",
    "    if filnamn in korrekta_filnamn:\n",
    "        klocka += 1\n",
    "    else: \n",
    "        print('Felaktigt filnamn angivet, försök igen.')"
   ]
  },
  {
   "cell_type": "code",
   "execution_count": null,
   "id": "8bfa88ee",
   "metadata": {},
   "outputs": [],
   "source": [
    "print(kpiData[2][3])                                        \n",
    "print(livsmedelData[1][2])\n",
    "print(tjansteData[0][1])"
   ]
  }
 ],
 "metadata": {
  "kernelspec": {
   "display_name": "Python 3 (ipykernel)",
   "language": "python",
   "name": "python3"
  },
  "language_info": {
   "codemirror_mode": {
    "name": "ipython",
    "version": 3
   },
   "file_extension": ".py",
   "mimetype": "text/x-python",
   "name": "python",
   "nbconvert_exporter": "python",
   "pygments_lexer": "ipython3",
   "version": "3.9.13"
  }
 },
 "nbformat": 4,
 "nbformat_minor": 5
}
