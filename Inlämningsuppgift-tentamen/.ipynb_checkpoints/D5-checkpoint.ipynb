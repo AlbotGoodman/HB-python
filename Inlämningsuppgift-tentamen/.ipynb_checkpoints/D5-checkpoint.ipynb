{
 "cells": [
  {
   "cell_type": "markdown",
   "id": "1fe319b8",
   "metadata": {},
   "source": [
    "# Deluppgift 5\n",
    "### Beskrivning\n",
    "\n",
    "I deluppgift a ska du träna på att analysera data och skapa en tabell med hjälp av ’f-strängar’ som \n",
    "innehåller resultatet av din analys (i Canvas under kapitel 4 ’Strängar’ finns exempel på hur du \n",
    "skapar en tabell med ’f-strängar’ ). I deluppgift b ska du presentera resultatet från deluppgift b i ett \n",
    "punktdiagram. OBS! I denna uppgift måste du själv skriva programkoden för summering och \n",
    "medelvärdesberäkningen. \n",
    "\n",
    "##### a.\n",
    "\n",
    "Skriv ett program som går igenom listan kpiData under åren 2000-2022 och beräknar och \n",
    "presenterar den månad varje år som har haft den största KPI-förändringen från en månad till \n",
    "nästakommande.  \n",
    " \n",
    "Exempel: KPI-förändringen för november definierar vi som (KPI_nov – KPI_okt)/KPI_okt.  \n",
    " \n",
    "Både KPI-förändringen (uttryckt i procent) och månaden ska finnas med i tabellen.  \n",
    "Tabellen ska även innehålla en kolumn med årsmedelvärdet av KPI. Tabellen avslutas med \n",
    "information som anger året och månaden för den största KPI-förändringen som uppmättes \n",
    "under mätperioden. Tabellen ska ha följande utseende (OBS! värdena på denna uppgift är \n",
    "bara exempel och inte de korrekta värdena): \n",
    "\n",
    "##### b.\n",
    "\n",
    "Att hitta mönster (trender) i datamängder är ofta av stort intresse. Mönster upptäcker vi \n",
    "människor bättre genom att studera bildinformation och inte information i tabellform. Låt \n",
    "oss därför utreda om det finns någon trend som visar när på året de största förändringarna i \n",
    "KPI brukar inträffa genom att skapa ett enkelt punktdiagram enligt nedan. Vi sätter en ’o’ \n",
    "(fylld cirkel) för den månad i respektive år där den största förändringen skett (dvs en grafisk \n",
    "presentation av informationen som finns i tabellen i deluppgift a). Punktdiagrammet ska ha \n",
    "följande utseende (OBS! värdena på denna uppgift är bara exempel och inte de korrekta \n",
    "värdena): \n"
   ]
  },
  {
   "cell_type": "code",
   "execution_count": 1,
   "id": "51983bb8",
   "metadata": {},
   "outputs": [],
   "source": [
    "# \n",
    "# en variant av deluppgift 1 bara för att få fram listan kpiData. \n",
    "# \n",
    "\n",
    "import csv\n",
    "\n",
    "def read_file(x):\n",
    "    with open(x, 'r', encoding='UTF-8') as file:\n",
    "        data_list = []\n",
    "        csv_reader = csv.reader(file, delimiter = ';')\n",
    "        for rad in csv_reader:\n",
    "            data_list.append(rad)\n",
    "        return data_list\n",
    "\n",
    "file1 = 'kpi-1.csv'                                     \n",
    "kpiData = read_file(file1)   \n",
    "KD = kpiData"
   ]
  },
  {
   "cell_type": "code",
   "execution_count": 2,
   "id": "712de29c",
   "metadata": {},
   "outputs": [],
   "source": [
    "def summa(x):\n",
    "    s = 0\n",
    "    for rad in x:\n",
    "        s = s + rad\n",
    "    return s\n",
    "\n",
    "def medel(x):\n",
    "    s = 0\n",
    "    for rad in x:\n",
    "        s = s + rad\n",
    "    m = s / len(x)\n",
    "    return m"
   ]
  },
  {
   "cell_type": "code",
   "execution_count": 14,
   "id": "fed51f44",
   "metadata": {},
   "outputs": [
    {
     "name": "stdout",
     "output_type": "stream",
     "text": [
      "========================================================================== \n",
      "\n",
      "                    ANALYS AV KPI UNDER ÅREN 2000 - 2022                    \n",
      "                    ------------------------------------                    \n",
      "\n",
      "                    Största förändring\n",
      "                    ------------------\n",
      "År                  %            månad                  Årsmedelvärde\n",
      "-------------------------------------------------------------------------- \n",
      "\n"
     ]
    }
   ],
   "source": [
    "tl = '=========================================================================='\n",
    "ol = '--------------------------------------------------------------------------'\n",
    "titel = 'ANALYS AV KPI UNDER ÅREN 2000 - 2022'\n",
    "titel_u = '------------------------------------'\n",
    "rubrik = 'Största förändring'\n",
    "rubrik_u = '------------------'\n",
    "m = ' '\n",
    "År = 'År'\n",
    "procent = '%'\n",
    "månad = 'månad'\n",
    "Årsmedelvärde = 'Årsmedelvärde'\n",
    "\n",
    "print(tl,'\\n\\n', f'{titel:^74}', '\\n', f'{titel_u:^74}', '\\n')\n",
    "print(f'{m:20}{rubrik}')\n",
    "print(f'{m:20}{rubrik_u}')\n",
    "print(f'{År:20}{procent:13}{månad:23}{Årsmedelvärde}')\n",
    "print(ol, '\\n')"
   ]
  },
  {
   "cell_type": "code",
   "execution_count": null,
   "id": "d48fe178",
   "metadata": {},
   "outputs": [],
   "source": []
  }
 ],
 "metadata": {
  "kernelspec": {
   "display_name": "Python 3 (ipykernel)",
   "language": "python",
   "name": "python3"
  },
  "language_info": {
   "codemirror_mode": {
    "name": "ipython",
    "version": 3
   },
   "file_extension": ".py",
   "mimetype": "text/x-python",
   "name": "python",
   "nbconvert_exporter": "python",
   "pygments_lexer": "ipython3",
   "version": "3.9.13"
  }
 },
 "nbformat": 4,
 "nbformat_minor": 5
}
