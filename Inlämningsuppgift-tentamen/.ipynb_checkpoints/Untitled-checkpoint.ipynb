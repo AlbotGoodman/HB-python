{
 "cells": [
  {
   "cell_type": "code",
   "execution_count": null,
   "id": "3756c049",
   "metadata": {},
   "outputs": [],
   "source": [
    "        elif val == \"3\":\n",
    "            if data_tjansteData == None or data_livsmedelData == None:\n",
    "                continue\n",
    "            plotta_data(data_tjansteData)\n",
    "            plotta_data(data_livsmedelData)\n",
    "        elif val == \"4\":\n",
    "            if data_tjansteData == None or data_livsmedelData == None:\n",
    "                continue\n",
    "            Prisutveckling_I_Procentform(data_tjansteData, data_livsmedelData)\n",
    "        elif val == \"5\":\n",
    "            if data_kpiData == None:\n",
    "                continue\n",
    "            Månad_Varje_År_Störst_KPI_Förändringen(data_kpiData)\n",
    "        elif val == \"6\":\n",
    "            print(\"Avslutar programmet\")\n",
    "            Loop = False\n",
    "        else:\n",
    "            print(\"Okänt kommando\")\n",
    "Main()\n",
    "print(\"Programmet är avslutat\")\n"
   ]
  },
  {
   "cell_type": "code",
   "execution_count": 17,
   "id": "1abf51cd",
   "metadata": {},
   "outputs": [
    {
     "name": "stdout",
     "output_type": "stream",
     "text": [
      "Talet avrundat blev:       3.14\n",
      "Talet avrundat blev: 3.14\n",
      "Talet avrundat blev: 3.14\n",
      "Talet avrundat blev: 3.14      \n"
     ]
    }
   ],
   "source": [
    "tal = 3.1415\n",
    "test = 234\n",
    "print(f'Talet avrundat blev: {tal:10.2f}')   # börja talet efter tio tecken och högerjusterat?!?!\n",
    "print(f'Talet avrundat blev: {tal:.3}')      # tre siffror?!?!?\n",
    "print(f'Talet avrundat blev: {tal:.2f}')     # två decimaler\n",
    "print(f'Talet avrundat blev: {tal:<10.2f}')  # väsnterjusterat"
   ]
  },
  {
   "cell_type": "code",
   "execution_count": null,
   "id": "d053ae6a",
   "metadata": {},
   "outputs": [],
   "source": []
  }
 ],
 "metadata": {
  "kernelspec": {
   "display_name": "Python 3 (ipykernel)",
   "language": "python",
   "name": "python3"
  },
  "language_info": {
   "codemirror_mode": {
    "name": "ipython",
    "version": 3
   },
   "file_extension": ".py",
   "mimetype": "text/x-python",
   "name": "python",
   "nbconvert_exporter": "python",
   "pygments_lexer": "ipython3",
   "version": "3.9.13"
  }
 },
 "nbformat": 4,
 "nbformat_minor": 5
}
