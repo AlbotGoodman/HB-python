{
 "cells": [
  {
   "cell_type": "markdown",
   "metadata": {},
   "source": [
    "## Uppgift 1 a)\n",
    "Ev. kommentar: 2 poäng"
   ]
  },
  {
   "cell_type": "code",
   "execution_count": null,
   "metadata": {},
   "outputs": [],
   "source": [
    "# En funktion som beräknar volymen på en pyramid med godtycklig form på basytan. \n",
    "def volymPyramid(B, h):\n",
    "    V = (B * h) / 3\n",
    "    print(f'- Volymen är {V:.1f}')\n",
    "\n",
    "print('-- Beräkna volymen på en pyramid --')\n",
    "B = float(input('Basarea: '))\n",
    "h = float(input('Höjd: '))\n",
    "volymPyramid(B, h)"
   ]
  },
  {
   "cell_type": "markdown",
   "metadata": {},
   "source": [
    "## Uppgift 1 b)\n",
    "Ev. kommentar: 4 poäng"
   ]
  },
  {
   "cell_type": "code",
   "execution_count": null,
   "metadata": {},
   "outputs": [],
   "source": [
    "# Ett program som kontrollerar huruvida en person har råd att köpa en bussbiljett. Input är budget och födelseår. \\\n",
    "#  Output är en string som ger ett positivt eller negativt besked. \n",
    "\n",
    "import datetime\n",
    "dt = datetime.datetime.now()\n",
    "\n",
    "print('-- Kontroll om du har råd att köpa en bussbiljett --')\n",
    "\n",
    "def alderskollen(alder):                                          \n",
    "    aldersgrupp = None\n",
    "    if (alder < 7):\n",
    "        aldersgrupp = 'barn'\n",
    "    elif (7 <= alder) and (alder < 18):\n",
    "        aldersgrupp = 'ungdom'\n",
    "    elif (18 <= alder):\n",
    "        aldersgrupp = 'vuxen'\n",
    "    return aldersgrupp\n",
    "\n",
    "def priskollen(saldo, aldersgrupp):\n",
    "    pris_barn = 0\n",
    "    pris_ungdomar = 50\n",
    "    pris_vuxna = 100\n",
    "    if aldersgrupp == 'barn':\n",
    "        print('Biljetten är gratis för barn under 7 år')\n",
    "        budget = saldo - pris_barn\n",
    "    elif aldersgrupp == 'ungdom':\n",
    "        budget = saldo - pris_ungdomar\n",
    "    elif aldersgrupp == 'vuxen': \n",
    "        budget = saldo - pris_vuxna\n",
    "    return budget\n",
    "\n",
    "def biljettkontrollanten():\n",
    "    alder = 0\n",
    "    while True:\n",
    "        saldo = int(input('Hur mycket pengar har du? '))\n",
    "        if saldo < 0:\n",
    "            print('Pengar kan inte vara mindre än 0! Försök igen')\n",
    "        else:\n",
    "            break\n",
    "    while True:\n",
    "        fodelsear = int(input('Vilket år är du född? '))\n",
    "        alder = dt.year - fodelsear\n",
    "        if (alder < 0) or (alder > 150):\n",
    "            print('Ålder blir inte emellan 0-150 år! Försök igen')\n",
    "        else:\n",
    "            break\n",
    "    print(f'Du är således {alder} år gammal')\n",
    "    aldersgrupp = alderskollen(alder)\n",
    "    print('Kontroll sker ...')\n",
    "    budget = priskollen(saldo, aldersgrupp)\n",
    "    if budget > 0:\n",
    "        print('- Du har råd')\n",
    "    else:\n",
    "        print('- Du har inte råd')\n",
    "\n",
    "biljettkontrollanten()"
   ]
  },
  {
   "cell_type": "markdown",
   "metadata": {},
   "source": [
    "## Uppgift 2 a)\n",
    "Ev. kommentar: 4 poäng"
   ]
  },
  {
   "cell_type": "code",
   "execution_count": null,
   "metadata": {},
   "outputs": [],
   "source": [
    "import random\n",
    "\n",
    "def slumpa():\n",
    "    lista = random.sample(range(1, 10), 5)\n",
    "    return lista\n",
    "\n",
    "def minimum(lista):\n",
    "    minsta_talet = 10\n",
    "    for index in range(0, len(lista)):\n",
    "        tal = lista[index]\n",
    "        if tal < minsta_talet:\n",
    "            minsta_talet = tal\n",
    "    print(f'Minsta talet: {minsta_talet}')\n",
    "\n",
    "def maximum(lista):\n",
    "    storsta_talet = 0\n",
    "    for index in range(0, len(lista)):\n",
    "        tal = lista[index]\n",
    "        if tal > storsta_talet:\n",
    "            storsta_talet = tal\n",
    "    print(f'Största talet: {storsta_talet}')\n",
    "\n",
    "def medel(lista):\n",
    "    summa = 0\n",
    "    for index in range(0, len(lista)):\n",
    "        summa = summa + lista[index]\n",
    "    medelvarde = summa / len(lista)\n",
    "    print(f'Medelvärde: {medelvarde}')\n",
    "    \n",
    "def MinMaxMedel():\n",
    "    slumplista = slumpa()\n",
    "    print(f'Slumplistan blev: \\n{slumplista}')\n",
    "    print()\n",
    "    minimum(slumplista)\n",
    "    maximum(slumplista)\n",
    "    medel(slumplista)\n",
    "    \n",
    "MinMaxMedel()"
   ]
  },
  {
   "cell_type": "markdown",
   "metadata": {},
   "source": [
    "## Uppgift 2 b)\n",
    "Ev. kommentar: 5 poäng"
   ]
  },
  {
   "cell_type": "code",
   "execution_count": null,
   "metadata": {},
   "outputs": [],
   "source": [
    "ANTAL_KOLUMNER = 5\n",
    "tal = 2\n",
    "raknare = 0\n",
    "\n",
    "antal_primtal = int(input(\"Skriv in antal primtal som önskas visas: \"))\n",
    "print(f'De första {antal_primtal} primtalen är: ')\n",
    "\n",
    "while raknare < antal_primtal:\n",
    "    ar_prim = False\n",
    "    divisor = 2\n",
    "    while divisor >= tal / 2:\n",
    "        if tal // divisor == 0:\n",
    "            ar_prim = False \n",
    "            continue\n",
    "        divisor += 1\n",
    "    if ar_prim:                                     \n",
    "        raknare += 1                                     # gjorde om till positiv\n",
    "        print(f' {tal:5d}', end = '')\n",
    "        if raknare % ANTAL_KOLUMNER == 0:\n",
    "            print()\n",
    "    tal += 1"
   ]
  },
  {
   "cell_type": "markdown",
   "metadata": {},
   "source": [
    "## Uppgift 2 c)\n",
    "Ev. kommentar: 5 poäng"
   ]
  },
  {
   "cell_type": "code",
   "execution_count": 35,
   "metadata": {},
   "outputs": [
    {
     "name": "stdout",
     "output_type": "stream",
     "text": [
      "jag tycker Python är lätt/svårt/roligt\n",
      "I think Python is easy/hard/fun\n",
      "Översätt till svenska/engelska: engelska\n",
      "Skriv din mening här: jag tycker Python är lätt\n",
      "jag\n",
      "Inkorrekt inmatning.\n",
      "tycker\n",
      "Inkorrekt inmatning.\n",
      "Python\n",
      "är\n",
      "Inkorrekt inmatning.\n",
      "lätt\n",
      "Inkorrekt inmatning.\n",
      "Python \n"
     ]
    }
   ],
   "source": [
    "ordbok = [['jag', 'I'],\n",
    "          ['tycker', 'think'],\n",
    "          ['är', 'is'],\n",
    "          ['lätt', 'easy'],\n",
    "          ['svårt', 'hard'],\n",
    "          ['roligt', 'fun']]\n",
    "oversatt_mening = ''\n",
    "\n",
    "# Sortera input och tilldela variabler\n",
    "print('jag tycker Python är lätt/svårt/roligt')\n",
    "print('I think Python is easy/hard/fun')\n",
    "sprakval = input('Översätt till svenska/engelska: ')\n",
    "mening = (input('Skriv din mening här: '))\n",
    "alla_ord = mening.split()\n",
    "\n",
    "for ett_ord in alla_ord:\n",
    "    print(ett_ord)\n",
    "    if ett_ord in ordbok:\n",
    "        if sprakval == 'engelska':\n",
    "            for i in alla_ord:\n",
    "                for j in ordbok:\n",
    "                    if alla_ord[i] == ordbok[j][0]:\n",
    "                        oversatt_mening += ordbok[j][1] + ' '\n",
    "    elif ett_ord == 'Python':\n",
    "        oversatt_mening += 'Python' + ' '\n",
    "    else:\n",
    "        print('Inkorrekt inmatning.')\n",
    "print(oversatt_mening)"
   ]
  },
  {
   "cell_type": "markdown",
   "metadata": {},
   "source": [
    "## Uppgift 3 a)\n",
    "Ev. kommentar: 3 poäng"
   ]
  },
  {
   "cell_type": "code",
   "execution_count": 44,
   "metadata": {},
   "outputs": [
    {
     "name": "stdout",
     "output_type": "stream",
     "text": [
      "[['Cars', 'mpg', 'cyl', 'disp', 'hp', 'wt', 'am', 'gear', 'carb'], ['Cadillac Fleetwood', '10,4', '8', '472', '205', '5,25', '0', '3', '4'], ['Lincoln Continental', '10,4', '8', '460', '215', '5,424', '0', '3', '4'], ['Camaro Z28', '13,3', '8', '350', '245', '3,84', '0', '3', '4'], ['Duster 360', '14,3', '8', '360', '245', '3,57', '0', '3', '4']]\n",
      "[['Cars', 'mpg', 'cyl', 'disp', 'hp', 'wt', 'am', 'gear', 'carb'], ['Cadillac Fleetwood', '10.4', '8', '472', '205', '5.25', '0', '3', '4'], ['Lincoln Continental', '10.4', '8', '460', '215', '5.424', '0', '3', '4'], ['Camaro Z28', '13.3', '8', '350', '245', '3.84', '0', '3', '4'], ['Duster 360', '14.3', '8', '360', '245', '3.57', '0', '3', '4']]\n"
     ]
    }
   ],
   "source": [
    "import csv\n",
    "import matplotlib.pyplot as plt\n",
    "\n",
    "def read_file(filnamn):\n",
    "    with open(filnamn, 'r', encoding='UTF-8') as file:                   # UTF-8 för att att \"åäö\" ska fungera. \n",
    "        data_list = []                      \n",
    "        csv_reader = csv.reader(file, delimiter = ';')\n",
    "        for rad in csv_reader:                                  \n",
    "            data_list.append(rad)                               \n",
    "        return data_list\n",
    "\n",
    "cars_data = read_file('provtenta-cars.csv')\n",
    "print(cars_data[:5])\n",
    "\n",
    "# Gör decimaltecken ',' till '.'\n",
    "for rad in cars_data:\n",
    "    for i, varde in enumerate(rad):\n",
    "        if ',' in varde:\n",
    "            rad[i] = varde.replace(',', '.')\n",
    "\n"
   ]
  },
  {
   "cell_type": "markdown",
   "metadata": {},
   "source": [
    "## Uppgift 3 b)\n",
    "Ev. kommentar: 6 poäng"
   ]
  },
  {
   "cell_type": "code",
   "execution_count": 55,
   "metadata": {},
   "outputs": [
    {
     "ename": "TypeError",
     "evalue": "int() argument must be a string, a bytes-like object or a number, not 'list'",
     "output_type": "error",
     "traceback": [
      "\u001b[1;31m---------------------------------------------------------------------------\u001b[0m",
      "\u001b[1;31mTypeError\u001b[0m                                 Traceback (most recent call last)",
      "\u001b[1;32m~\\AppData\\Local\\Temp\\ipykernel_7040\\2159895926.py\u001b[0m in \u001b[0;36m<module>\u001b[1;34m\u001b[0m\n\u001b[0;32m     12\u001b[0m     \u001b[0mgear\u001b[0m\u001b[1;33m.\u001b[0m\u001b[0mappend\u001b[0m\u001b[1;33m(\u001b[0m\u001b[0mcars_data\u001b[0m\u001b[1;33m[\u001b[0m\u001b[0mi\u001b[0m\u001b[1;33m]\u001b[0m\u001b[1;33m[\u001b[0m\u001b[1;36m7\u001b[0m\u001b[1;33m]\u001b[0m\u001b[1;33m)\u001b[0m\u001b[1;33m\u001b[0m\u001b[1;33m\u001b[0m\u001b[0m\n\u001b[0;32m     13\u001b[0m \u001b[1;31m#\u001b[0m\u001b[1;33m\u001b[0m\u001b[1;33m\u001b[0m\u001b[0m\n\u001b[1;32m---> 14\u001b[1;33m \u001b[0mprint\u001b[0m\u001b[1;33m(\u001b[0m\u001b[0mint\u001b[0m\u001b[1;33m(\u001b[0m\u001b[0mgear\u001b[0m\u001b[1;33m)\u001b[0m\u001b[1;33m)\u001b[0m\u001b[1;33m\u001b[0m\u001b[1;33m\u001b[0m\u001b[0m\n\u001b[0m",
      "\u001b[1;31mTypeError\u001b[0m: int() argument must be a string, a bytes-like object or a number, not 'list'"
     ]
    }
   ],
   "source": [
    "automat_antal = 0\n",
    "manuell_antal = 0\n",
    "for rad in range(1, len(cars_data)):\n",
    "    for kolumn in range(7):\n",
    "        if cars_data[rad][kolumn] == '0':\n",
    "            automat_antal += 1\n",
    "        if cars_data[rad][kolumn] == '1':\n",
    "            manuell_antal += 1\n",
    "#\n",
    "gear = []\n",
    "for i in range(1, len(cars_data)):\n",
    "    j = \n",
    "    gear.append(cars_data[i][7])"
   ]
  },
  {
   "cell_type": "markdown",
   "metadata": {},
   "source": [
    "## Uppgift 3 c)\n",
    "Ev. kommentar: 4 poäng"
   ]
  },
  {
   "cell_type": "code",
   "execution_count": null,
   "metadata": {},
   "outputs": [],
   "source": [
    "\n"
   ]
  },
  {
   "cell_type": "markdown",
   "metadata": {},
   "source": [
    "## Uppgift 3 d)\n",
    "Ev. kommentar: 7 poäng"
   ]
  },
  {
   "cell_type": "code",
   "execution_count": null,
   "metadata": {},
   "outputs": [],
   "source": [
    "\n"
   ]
  }
 ],
 "metadata": {
  "kernelspec": {
   "display_name": "Python 3 (ipykernel)",
   "language": "python",
   "name": "python3"
  },
  "language_info": {
   "codemirror_mode": {
    "name": "ipython",
    "version": 3
   },
   "file_extension": ".py",
   "mimetype": "text/x-python",
   "name": "python",
   "nbconvert_exporter": "python",
   "pygments_lexer": "ipython3",
   "version": "3.9.13"
  }
 },
 "nbformat": 4,
 "nbformat_minor": 2
}
