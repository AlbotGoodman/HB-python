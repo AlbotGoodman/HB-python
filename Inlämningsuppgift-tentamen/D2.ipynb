{
 "cells": [
  {
   "cell_type": "markdown",
   "id": "873d7508",
   "metadata": {},
   "source": [
    "# Deluppgift 2\n",
    "### Beskrivning\n",
    "\n",
    "I  denna  uppgift  ska  du  använda  listan  kpiData  för  att  skapa  grafer  och  ett  stapeldiagram  enligt nedanstående  figur.  \n",
    "\n",
    "##### OBS!  I  denna  uppgift  måste  du  själv  skriva  programkoden  för  summering  och  medelvärdesberäkningen. \n",
    "\n",
    "Programmet ska först fråga efter en månad (1 – 12). Därefter ska programmet beräkna medelvärdet \n",
    "av KPI för varje år  under åren 1980 – 2022 (år 2022 baseras medelvärdet på månaderna jan – juli). \n",
    "Resultatet  ska  sedan  ritas  ut  som  både  ett  linjediagram  (svart  linje)  och  som  ett  stapeldiagram. \n",
    "Tillsammans med ett linjediagram (röd linje) för KPI för den angivna månaden under tidsperioden 1980 \n",
    "– 2022.  \n",
    "\n",
    "Exempelkörning: (Kursiv text anger inmatning vid programkörning). \n",
    "\n",
    "Ange vilken månad som ska presenteras: 2 \n"
   ]
  },
  {
   "cell_type": "markdown",
   "id": "d3e66d8d",
   "metadata": {},
   "source": [
    "### Tankebana\n",
    "\n",
    "Jag kommer behöva:\n",
    "- en egen funktion för summering\n",
    "- en egen funktion för medelvärde\n",
    "- ett värde på angiven månad\n",
    "- ett genomsnittligt värde per år\n",
    "- en tabell\n",
    "\n",
    "Min tanke är att för både summering och medelvärde göra listor av de värden som ska räknas. Då hamnar alla element på samma rad och jag kan använda mig av len() och x.count() för att underlätta summering och medelvärde. Fråga är om det ska göras i en universell egendefinierad funktion? \n",
    "\n",
    "1. Fråga efter en månad (1-12)\n",
    "    möjligtvis en kombination av indexering och for-sats? För att få ut alla årliga värden för angiven månad. \n",
    "2. "
   ]
  },
  {
   "cell_type": "markdown",
   "id": "0f26bd59",
   "metadata": {},
   "source": [
    "##### kpiData (fake)"
   ]
  },
  {
   "cell_type": "code",
   "execution_count": 1,
   "id": "35372a94",
   "metadata": {},
   "outputs": [],
   "source": [
    "# \n",
    "# en variant av deluppgift 1 bara för att få fram listan kpiData. \n",
    "# \n",
    "\n",
    "import csv\n",
    "\n",
    "def read_file(x):\n",
    "    with open(x, 'r', encoding='UTF-8') as file:\n",
    "        data_list = []\n",
    "        csv_reader = csv.reader(file, delimiter = ';')\n",
    "        for rad in csv_reader:\n",
    "            data_list.append(rad)\n",
    "        return data_list\n",
    "\n",
    "file1 = 'kpi-1.csv'                                     \n",
    "kpiData = read_file(file1)   "
   ]
  },
  {
   "cell_type": "markdown",
   "id": "e2bafafb",
   "metadata": {},
   "source": [
    "##### D2 - egendefinierade funktioner för summering och medelvärdesberäkning"
   ]
  },
  {
   "cell_type": "code",
   "execution_count": 2,
   "id": "4fc7e7fa",
   "metadata": {},
   "outputs": [],
   "source": [
    "def summa(x):\n",
    "    s = 0\n",
    "    for rad in x:\n",
    "        s = s + rad\n",
    "    return s\n",
    "\n",
    "def medel(x):\n",
    "    s = 0\n",
    "    for rad in x:\n",
    "        s = s + rad\n",
    "    m = s / len(x)\n",
    "    return m"
   ]
  },
  {
   "cell_type": "markdown",
   "id": "ed97cf75",
   "metadata": {},
   "source": [
    "##### D2 - månad"
   ]
  },
  {
   "cell_type": "code",
   "execution_count": 3,
   "id": "6d64eab9",
   "metadata": {},
   "outputs": [
    {
     "name": "stdout",
     "output_type": "stream",
     "text": [
      "Nedan graf kommer att visa ett genomsnittligt konsumentprisindex (KPI) mellan åren 1980 och 2022.\n",
      "\n",
      "Visa KPI för månad (1-12): 7\n",
      "\n",
      "\n",
      "[371.28, 342.23, 337.57, 335.8, 330.33, 323.69, 316.73, 313.43, 313.67, 313.55, 313.23, 311.13, 302.04, 298.8, 302.11, 289.49, 284.19, 279.4, 278.5, 276.8, 272.3, 266.9, 260.0, 257.6, 257.0, 257.3, 255.7, 254.8, 248.4, 241.9, 231.2, 227.1, 208.2, 187.9, 177.1, 166.9, 160.1, 153.8, 142.8, 132.9, 121.9, 112.6, 99.3]\n",
      "43\n",
      "10927.669999999998\n",
      "254.13186046511623\n"
     ]
    }
   ],
   "source": [
    "# Nuvarande problem är att månad 8-12 genererar \"list index out of range\". \n",
    "# Med mina yttre if-satser kommer jag runt det men jag tar gärna feedback. \n",
    "# Mina inre if-satser preventerar också list \"index out of range\".\n",
    "\n",
    "print('Nedan graf kommer att visa ett genomsnittligt konsumentprisindex (KPI) mellan åren 1980 och 2022.\\n')\n",
    "m = int(input('Visa KPI för månad (1-12): '))\n",
    "print('\\n')\n",
    "\n",
    "# Nedan skapar vi en endimensionell lista med alla värden från kolumnen av den månad som användaren anger. \n",
    "kpiDataManad = []\n",
    "ca = 0                                                       # c för clock eller counter\n",
    "cb = 1\n",
    "for rad in kpiData:\n",
    "    if m < 8:                                                # utan denna och kommande if-satser får jag \"list index out of range\", jag har inte hittat någon lösning men jag hittade ett knep som var att ta print(\"\"index\"\") och se hur många index den skriver ut och begränsa sen for-satsen till det antalet index.\n",
    "        ca = ca + 1                                          # Eftersom jag ger c ett nytt värde redan innan första loopen så undviker jag att få med månadens namn i listan och får bara värden.\n",
    "        kpiDataManad.append(kpiData[ca][m])                  \n",
    "        if ca > 42:\n",
    "            break                                           \n",
    "    if m >= 8:                                               \n",
    "        cb = cb + 1\n",
    "        kpiDataManad.append(kpiData[cb][m])\n",
    "        if cb > 42:\n",
    "            break                                            \n",
    "        \n",
    "kpiDataManad = [float(kpiDM) for kpiDM in kpiDataManad]      # Här använder jag list comprehension och gör om min nya lista från string till float för att kunna räkna (summa, medel) med innehållet.\n",
    "print(kpiDataManad)                                          # TEST\n",
    "print(len(kpiDataManad))                                     # TEST\n",
    "print(summa(kpiDataManad))                                   # TEST\n",
    "print(medel(kpiDataManad))                                   # TEST"
   ]
  },
  {
   "cell_type": "markdown",
   "id": "943b5890",
   "metadata": {},
   "source": [
    "##### D2 - medelvärde år"
   ]
  },
  {
   "cell_type": "code",
   "execution_count": 4,
   "id": "3e803a67",
   "metadata": {},
   "outputs": [
    {
     "name": "stdout",
     "output_type": "stream",
     "text": [
      "[361.9985714285714, 343.1891666666666, 335.92250000000007, 334.26, 328.4008333333333, 322.1083333333333, 316.43, 313.34583333333336, 313.4925, 314.0566666666667, 314.1958333333334, 311.4291666666666, 303.46083333333337, 299.6591666666667, 300.6116666666667, 290.5108333333333, 284.2233333333333, 280.40833333333336, 279.15, 278.09999999999997, 272.84166666666664, 267.0833333333333, 260.71666666666664, 258.13333333333327, 256.96666666666664, 257.31666666666666, 255.9916666666667, 254.79166666666666, 248.50833333333335, 243.15833333333333, 232.35833333333332, 227.17500000000004, 207.77499999999998, 188.08333333333337, 176.70833333333334, 167.025, 160.25833333333335, 153.75, 143.20000000000002, 132.5666666666667, 121.72500000000001, 112.10833333333335, 100.00000000000001]\n"
     ]
    }
   ],
   "source": [
    "from statistics import mean\n",
    "\n",
    "del kpiData[0]                                      # Ta bort månaderna. \n",
    "for i in range(len(kpiData)):                       # Ta bort årtalen. \n",
    "    for j in range(0, 1):\n",
    "        del (kpiData[i][j])\n",
    "\n",
    "for i in kpiData:                                   # Konvertera all data till floats. \n",
    "    for j, k in enumerate(i):\n",
    "        i[j] = float(k)\n",
    "\n",
    "kpiDataAr = [medel(x) for x in kpiData]\n",
    "print(kpiDataAr)"
   ]
  },
  {
   "cell_type": "markdown",
   "id": "df98ae08",
   "metadata": {},
   "source": [
    "##### D2 - graf"
   ]
  },
  {
   "cell_type": "code",
   "execution_count": 5,
   "id": "c43178c7",
   "metadata": {},
   "outputs": [],
   "source": [
    "kpiDataManad.reverse()\n",
    "kpiDataAr.reverse()"
   ]
  },
  {
   "cell_type": "code",
   "execution_count": 9,
   "id": "c1e76ed0",
   "metadata": {},
   "outputs": [
    {
     "data": {
      "image/png": "[encoded data removed]",
      "text/plain": [
       "<Figure size 640x480 with 1 Axes>"
      ]
     },
     "metadata": {},
     "output_type": "display_data"
    }
   ],
   "source": [
    "import matplotlib.pyplot as plt\n",
    "import numpy as np\n",
    "\n",
    "plt.ylim(50, 400)\n",
    "plt.xlim(1980, 2022)\n",
    "#x = np.linspace(1980, 2022, 43)\n",
    "#x42 = np.linspace(1980, 2022, 42)\n",
    "\n",
    "plt.plot(x, kpiDataManad, color = 'red', label = 'Medelvärde för vald månad')\n",
    "plt.plot(x, kpiDataAr, color = 'k', label = 'Medelvärde för året')\n",
    "plt.bar(x, kpiDataAr, color = 'lightsteelblue', label = 'Medelvärde för året')\n",
    "\n",
    "plt.title('Konsumentprisindex (KPI) 1980-2022')\n",
    "plt.xlabel('År')\n",
    "plt.ylabel('KPI')\n",
    "b = plt.gca()\n",
    "b.set_facecolor('whitesmoke')\n",
    "plt.legend()\n",
    "plt.show()"
   ]
  },
  {
   "cell_type": "code",
   "execution_count": null,
   "id": "d33f6a10",
   "metadata": {},
   "outputs": [],
   "source": []
  }
 ],
 "metadata": {
  "kernelspec": {
   "display_name": "Python 3 (ipykernel)",
   "language": "python",
   "name": "python3"
  },
  "language_info": {
   "codemirror_mode": {
    "name": "ipython",
    "version": 3
   },
   "file_extension": ".py",
   "mimetype": "text/x-python",
   "name": "python",
   "nbconvert_exporter": "python",
   "pygments_lexer": "ipython3",
   "version": "3.9.13"
  }
 },
 "nbformat": 4,
 "nbformat_minor": 5
}
