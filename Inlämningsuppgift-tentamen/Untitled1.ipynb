{
 "cells": [
  {
   "cell_type": "code",
   "execution_count": 1,
   "id": "f806bfc0",
   "metadata": {},
   "outputs": [],
   "source": [
    "import csv\n",
    "\n",
    "def read_file(csv_filename):\n",
    "    \"\"\"Läs innehållet i en CSV-filen och returnera den som en lista.\"\"\"\n",
    "    with open(csv_filename, mode=\"r\", encoding=\"UTF-8\") as csv_data: # Läser CSV-filen\n",
    "        reader = csv.reader(csv_data, delimiter=\";\")                 # Gör varje rad i CSV-filen till en lista, och lämna tillbaka det\n",
    "        return list(reader)                                          # Skapar en lista med innehållet av flera listor\n",
    "\n",
    "# Läs data från CSV-filerna och lagra dem\n",
    "kpiData       = read_file(\"kpi-1.csv\")\n",
    "tjansteData   = read_file(\"tjänster-1.csv\")\n",
    "livsmedelData = read_file(\"livsmedel-1.csv\")\n",
    "\n"
   ]
  },
  {
   "cell_type": "code",
   "execution_count": 8,
   "id": "192e70b1",
   "metadata": {},
   "outputs": [
    {
     "name": "stdout",
     "output_type": "stream",
     "text": [
      "['1980', '1981', '1982', '1983', '1984', '1985', '1986', '1987', '1988', '1989', '1990', '1991', '1992', '1993', '1994', '1995', '1996', '1997', '1998', '1999', '2000', '2001', '2002', '2003', '2004', '2005', '2006', '2007', '2008', '2009', '2010', '2011', '2012', '2013', '2014', '2015', '2016', '2017', '2018', '2019', '2020', '2021']\n"
     ]
    }
   ],
   "source": [
    "data_lista = livsmedelData\n",
    "max_värde = 0\n",
    "data_str = [] # samla alla olika varor tjänster\n",
    "åren = [int(year) for year in data_lista[0][1:]] # samla alla år i en lista\n",
    "    \n",
    "for data in data_lista[1:]:\n",
    "    data_str.append(data[0])\n",
    "\n",
    "\n",
    "\n",
    "\n",
    "print(data_lista[0][1:])"
   ]
  },
  {
   "cell_type": "code",
   "execution_count": null,
   "id": "043bc4e7",
   "metadata": {},
   "outputs": [],
   "source": []
  }
 ],
 "metadata": {
  "kernelspec": {
   "display_name": "Python 3 (ipykernel)",
   "language": "python",
   "name": "python3"
  },
  "language_info": {
   "codemirror_mode": {
    "name": "ipython",
    "version": 3
   },
   "file_extension": ".py",
   "mimetype": "text/x-python",
   "name": "python",
   "nbconvert_exporter": "python",
   "pygments_lexer": "ipython3",
   "version": "3.9.13"
  }
 },
 "nbformat": 4,
 "nbformat_minor": 5
}
