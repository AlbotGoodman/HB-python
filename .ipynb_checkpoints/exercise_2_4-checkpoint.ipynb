{
 "cells": [
  {
   "cell_type": "markdown",
   "id": "1926a131",
   "metadata": {},
   "source": [
    "# Mitt bidrag"
   ]
  },
  {
   "cell_type": "code",
   "execution_count": 15,
   "id": "36fa54d0",
   "metadata": {},
   "outputs": [
    {
     "name": "stdout",
     "output_type": "stream",
     "text": [
      "How many miles per gallon does your car use? 35\n",
      "That would translate to 0.067 litres per kilometer.\n"
     ]
    }
   ],
   "source": [
    "mile = 1.609\n",
    "gallon = 3.785\n",
    "lpkm = gallon / mile\n",
    "\n",
    "mpg = input('How many miles per gallon does your car use? ')\n",
    "mpg = float(mpg)\n",
    "\n",
    "converted = lpkm / mpg\n",
    "\n",
    "print(f'That would translate to {converted:.3f} litres per kilometer.')"
   ]
  },
  {
   "cell_type": "markdown",
   "id": "2ba53813",
   "metadata": {},
   "source": [
    "# Facit"
   ]
  },
  {
   "cell_type": "code",
   "execution_count": 1,
   "id": "12be9f51",
   "metadata": {},
   "outputs": [
    {
     "name": "stdout",
     "output_type": "stream",
     "text": [
      "Miles per gallon? 35\n",
      "0.67 l/mil\n"
     ]
    }
   ],
   "source": [
    "miles_per_g = float(input('Miles per gallon? '))\n",
    "l_per_mil =  3.785 / miles_per_g / 1.609 * 10 \n",
    "print(f'{l_per_mil:.2f} l/mil')"
   ]
  },
  {
   "cell_type": "code",
   "execution_count": null,
   "id": "4d6a6b2d",
   "metadata": {},
   "outputs": [],
   "source": []
  }
 ],
 "metadata": {
  "kernelspec": {
   "display_name": "Python 3 (ipykernel)",
   "language": "python",
   "name": "python3"
  },
  "language_info": {
   "codemirror_mode": {
    "name": "ipython",
    "version": 3
   },
   "file_extension": ".py",
   "mimetype": "text/x-python",
   "name": "python",
   "nbconvert_exporter": "python",
   "pygments_lexer": "ipython3",
   "version": "3.9.13"
  }
 },
 "nbformat": 4,
 "nbformat_minor": 5
}
