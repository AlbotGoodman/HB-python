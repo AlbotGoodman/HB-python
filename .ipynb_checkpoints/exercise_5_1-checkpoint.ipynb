{
 "cells": [
  {
   "cell_type": "code",
   "execution_count": 20,
   "id": "a0a9813a",
   "metadata": {
    "scrolled": true
   },
   "outputs": [
    {
     "name": "stdout",
     "output_type": "stream",
     "text": [
      "Skriv en mening: Vad som än händer\n",
      "Din mening bestod av 17 tecken.\n",
      "Det första ordet är: Vad\n",
      "Det sista ordet är: händer\n"
     ]
    }
   ],
   "source": [
    "sentence = input('Skriv en mening: ')\n",
    "s = sentence\n",
    "print(f'Din mening bestod av {len(s)} tecken.') \n",
    "\n",
    "first = s.index(' ')                                    # Hitta första mellanslaget\n",
    "print(f'Det första ordet är: {s[0:first:1]}')           # Bilda en skiva/slice från start till första mellanslaget\n",
    "\n",
    "last = s.rindex(' ')                                    # Hitta första/sista mellanslaget genom att söka bakifrån\n",
    "print(f'Det sista ordet är: {s[last+1:]}')              # Bilda en skiva/slice av allt från sista mellanslaget till slutet"
   ]
  },
  {
   "cell_type": "code",
   "execution_count": null,
   "id": "54408f2d",
   "metadata": {},
   "outputs": [],
   "source": []
  }
 ],
 "metadata": {
  "kernelspec": {
   "display_name": "Python 3 (ipykernel)",
   "language": "python",
   "name": "python3"
  },
  "language_info": {
   "codemirror_mode": {
    "name": "ipython",
    "version": 3
   },
   "file_extension": ".py",
   "mimetype": "text/x-python",
   "name": "python",
   "nbconvert_exporter": "python",
   "pygments_lexer": "ipython3",
   "version": "3.9.13"
  }
 },
 "nbformat": 4,
 "nbformat_minor": 5
}
