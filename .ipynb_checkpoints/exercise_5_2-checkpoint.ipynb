{
 "cells": [
  {
   "cell_type": "code",
   "execution_count": 19,
   "id": "75bfd1e7",
   "metadata": {},
   "outputs": [
    {
     "name": "stdout",
     "output_type": "stream",
     "text": [
      "Ange personnummer (tolv siffror): 19921121-2196\n",
      "Grattis!\n"
     ]
    }
   ],
   "source": [
    "ID = input('Ange personnummer (tolv siffror): ')\n",
    "ID = ID[:8]\n",
    "år = ID[:4]\n",
    "månad = ID[4:6]\n",
    "dag = ID[6:8]\n",
    "ID = år + '-' + månad + '-' + dag\n",
    "ID = ID[5:]\n",
    "\n",
    "import datetime\n",
    "dt = datetime.datetime.now()\n",
    "date = dt.date()\n",
    "date = str(date)\n",
    "date = date[5:]\n",
    "\n",
    "if ID == date:\n",
    "    print('Grattis!')"
   ]
  },
  {
   "cell_type": "code",
   "execution_count": null,
   "id": "ea943e12",
   "metadata": {},
   "outputs": [],
   "source": []
  }
 ],
 "metadata": {
  "kernelspec": {
   "display_name": "Python 3 (ipykernel)",
   "language": "python",
   "name": "python3"
  },
  "language_info": {
   "codemirror_mode": {
    "name": "ipython",
    "version": 3
   },
   "file_extension": ".py",
   "mimetype": "text/x-python",
   "name": "python",
   "nbconvert_exporter": "python",
   "pygments_lexer": "ipython3",
   "version": "3.9.13"
  }
 },
 "nbformat": 4,
 "nbformat_minor": 5
}
