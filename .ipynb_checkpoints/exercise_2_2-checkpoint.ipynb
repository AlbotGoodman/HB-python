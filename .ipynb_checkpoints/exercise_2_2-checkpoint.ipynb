{
 "cells": [
  {
   "cell_type": "markdown",
   "id": "f2f8365c",
   "metadata": {},
   "source": [
    "# Mitt bidrag"
   ]
  },
  {
   "cell_type": "code",
   "execution_count": 20,
   "id": "cdd93707",
   "metadata": {},
   "outputs": [
    {
     "name": "stdout",
     "output_type": "stream",
     "text": [
      "What is the radius of your sphere? 5.0\n",
      "The volume of your sphere is 523.60\n",
      "The area of your sphere is 314.16\n"
     ]
    }
   ],
   "source": [
    "import math\n",
    "\n",
    "r = input('What is the radius of your sphere? ')\n",
    "r = float(r)\n",
    "\n",
    "V = (4*math.pi*r**3)/3\n",
    "A = 4*math.pi*r**2\n",
    "\n",
    "print(f'The volume of your sphere is {V:.2f}')\n",
    "print(f'The area of your sphere is {A:.2f}')"
   ]
  },
  {
   "cell_type": "markdown",
   "id": "3e1ea983",
   "metadata": {},
   "source": [
    "# Facit"
   ]
  },
  {
   "cell_type": "code",
   "execution_count": 1,
   "id": "b249241a",
   "metadata": {},
   "outputs": [
    {
     "name": "stdout",
     "output_type": "stream",
     "text": [
      "Radie? 5\n",
      "Volym: 523.599\n",
      "Area:  314.159\n"
     ]
    }
   ],
   "source": [
    "import math\n",
    "r = float(input('Radie? '))\n",
    "v = 4 * math.pi * r**3 / 3\n",
    "a = 4 * math.pi * r**2\n",
    "print(f'Volym: {v:.3f}')\n",
    "print(f'Area:  {a:.3f}')"
   ]
  },
  {
   "cell_type": "code",
   "execution_count": null,
   "id": "d0548dba",
   "metadata": {},
   "outputs": [],
   "source": []
  }
 ],
 "metadata": {
  "kernelspec": {
   "display_name": "Python 3 (ipykernel)",
   "language": "python",
   "name": "python3"
  },
  "language_info": {
   "codemirror_mode": {
    "name": "ipython",
    "version": 3
   },
   "file_extension": ".py",
   "mimetype": "text/x-python",
   "name": "python",
   "nbconvert_exporter": "python",
   "pygments_lexer": "ipython3",
   "version": "3.9.13"
  }
 },
 "nbformat": 4,
 "nbformat_minor": 5
}
