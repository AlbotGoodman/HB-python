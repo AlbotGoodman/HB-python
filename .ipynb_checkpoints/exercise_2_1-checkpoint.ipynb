{
 "cells": [
  {
   "cell_type": "markdown",
   "id": "1484b5fe",
   "metadata": {},
   "source": [
    "# Mitt bidrag"
   ]
  },
  {
   "cell_type": "code",
   "execution_count": 10,
   "id": "91195aef",
   "metadata": {},
   "outputs": [
    {
     "name": "stdout",
     "output_type": "stream",
     "text": [
      "Mätarställning i dag? 7891\n",
      "Mätarställning för ett år sedan? 6406\n",
      "Antal körda mil:  1485\n",
      "Antal liter bensin: 1235.4\n",
      "Förbrukning per mil: 0.83\n"
     ]
    }
   ],
   "source": [
    "# Hur många mil har bilen kört senaste året?\n",
    "# Genomsnittlig bensinförbrukning per mil?\n",
    "# 1. Dagens mätarställning. \n",
    "# 2. Förra årets mätarställning.\n",
    "# 3. Förbrukad bensin i liter, det senaste året. \n",
    "\n",
    "# 1\n",
    "today = input('Mätarställning i dag? ')\n",
    "today = int(today)\n",
    "\n",
    "# 2\n",
    "last_year = input('Mätarställning för ett år sedan? ')\n",
    "last_year = int(last_year)\n",
    "\n",
    "usage_miles = today - last_year\n",
    "print('Antal körda mil: ',usage_miles)\n",
    "\n",
    "usage_petrol = input('Antal liter bensin: ')\n",
    "usage_petrol = float(usage_petrol)\n",
    "\n",
    "# 3 \n",
    "usage_petrol_miles = usage_petrol / usage_miles\n",
    "print(f'Förbrukning per mil: {usage_petrol_miles:.2}')"
   ]
  },
  {
   "cell_type": "markdown",
   "id": "efd3510d",
   "metadata": {},
   "source": [
    "# Facit"
   ]
  },
  {
   "cell_type": "code",
   "execution_count": 1,
   "id": "6e3f0f57",
   "metadata": {},
   "outputs": [
    {
     "name": "stdout",
     "output_type": "stream",
     "text": [
      "Mätarställning i dag? 7891\n",
      "Mätarställning för ett år sedan? 6406\n",
      "Antal körda mil: 1485\n",
      "Antal liter bensin? 1235.4\n",
      "Förbrukning per mil: 0.83\n"
     ]
    }
   ],
   "source": [
    "mil2 = int(input('Mätarställning i dag? '))\n",
    "mil1 = int(input('Mätarställning för ett år sedan? '))\n",
    "print('Antal körda mil:', mil2 - mil1)\n",
    "liter = float(input('Antal liter bensin? '))\n",
    "print(f'Förbrukning per mil: {liter/(mil2-mil1):.2f}')"
   ]
  },
  {
   "cell_type": "code",
   "execution_count": null,
   "id": "94f8e3d4",
   "metadata": {},
   "outputs": [],
   "source": []
  }
 ],
 "metadata": {
  "kernelspec": {
   "display_name": "Python 3 (ipykernel)",
   "language": "python",
   "name": "python3"
  },
  "language_info": {
   "codemirror_mode": {
    "name": "ipython",
    "version": 3
   },
   "file_extension": ".py",
   "mimetype": "text/x-python",
   "name": "python",
   "nbconvert_exporter": "python",
   "pygments_lexer": "ipython3",
   "version": "3.9.13"
  }
 },
 "nbformat": 4,
 "nbformat_minor": 5
}
