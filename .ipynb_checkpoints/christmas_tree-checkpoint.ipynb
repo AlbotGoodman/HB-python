{
 "cells": [
  {
   "cell_type": "markdown",
   "id": "776f9b04",
   "metadata": {},
   "source": [
    "## Lite tester"
   ]
  },
  {
   "cell_type": "code",
   "execution_count": 13,
   "id": "c8cf8373",
   "metadata": {},
   "outputs": [
    {
     "name": "stdout",
     "output_type": "stream",
     "text": [
      "Antal rader? 5\n",
      "+\n",
      "++\n",
      "+++\n",
      "++++\n",
      "+++++\n"
     ]
    }
   ],
   "source": [
    "# Börja med ett plustecken, addera sedan ett per rad. \n",
    "n = int(input('Antal rader? '))\n",
    "for i in range(1,n+1):\n",
    "    for j in range(1,i+1):\n",
    "        print('+', end='')\n",
    "    print()"
   ]
  },
  {
   "cell_type": "code",
   "execution_count": 20,
   "id": "2c58f643",
   "metadata": {},
   "outputs": [
    {
     "name": "stdout",
     "output_type": "stream",
     "text": [
      "Antal rader? 5\n",
      "+++++\n",
      "++++\n",
      "+++\n",
      "++\n",
      "+\n"
     ]
    }
   ],
   "source": [
    "n = int(input('Antal rader? '))\n",
    "for k in range(n,0,-1):\n",
    "    for l in range(n,k+n):\n",
    "        print('+', end='')\n",
    "    print()"
   ]
  },
  {
   "cell_type": "markdown",
   "id": "9fd7f7d3",
   "metadata": {},
   "source": [
    "## Nu börjar vi med halva julgranen. "
   ]
  },
  {
   "cell_type": "code",
   "execution_count": 52,
   "id": "37ad1721",
   "metadata": {},
   "outputs": [
    {
     "name": "stdout",
     "output_type": "stream",
     "text": [
      "+\n",
      "++\n",
      "+++\n",
      "++++\n",
      "+++++\n",
      "++\n",
      "+++\n",
      "++++\n",
      "+++++\n",
      "++++++\n",
      "+++++++\n",
      "++++++++\n",
      "+++++++++\n",
      "++++++++++\n",
      "+++++++\n",
      "++++++++\n",
      "+++++++++\n",
      "++++++++++\n",
      "+++++++++++\n",
      "++++++++++++\n",
      "+++++++++++++\n",
      "++++++++++++++\n",
      "+++++++++++++++\n",
      "+++\n",
      "+++\n",
      "+++\n",
      "+++\n",
      "+++\n"
     ]
    }
   ],
   "source": [
    "# Toppen\n",
    "s = '+'\n",
    "for a in range(1,6):\n",
    "    for b in range(1,a+1):\n",
    "        print(s, end='')\n",
    "    print()\n",
    "\n",
    "#  Mitten\n",
    "for a in range(b-3,b+6):\n",
    "    for b in range(1,a+1):\n",
    "        print(s, end='')\n",
    "    print()\n",
    "\n",
    "# Botten\n",
    "for a in range(b-3,b+6):\n",
    "    for b in range(1,a+1):\n",
    "        print(s, end='')\n",
    "    print()\n",
    "\n",
    "# Stammen\n",
    "for a in range(1,6):\n",
    "    for b in range(1,4):\n",
    "        print(s, end='')\n",
    "    print()"
   ]
  },
  {
   "cell_type": "markdown",
   "id": "7b9840c3",
   "metadata": {},
   "source": [
    "## När det kommer till hela julgranen ..."
   ]
  },
  {
   "cell_type": "code",
   "execution_count": null,
   "id": "61c09652",
   "metadata": {},
   "outputs": [],
   "source": [
    "# Jag hade en plan att använda mig av s.center() eftersom '+' är en string men det verkade krångligt. \n",
    "# Även f-strings verkade svårt, även om jag gjorde om '+' till en integer. "
   ]
  }
 ],
 "metadata": {
  "kernelspec": {
   "display_name": "Python 3 (ipykernel)",
   "language": "python",
   "name": "python3"
  },
  "language_info": {
   "codemirror_mode": {
    "name": "ipython",
    "version": 3
   },
   "file_extension": ".py",
   "mimetype": "text/x-python",
   "name": "python",
   "nbconvert_exporter": "python",
   "pygments_lexer": "ipython3",
   "version": "3.9.13"
  }
 },
 "nbformat": 4,
 "nbformat_minor": 5
}
