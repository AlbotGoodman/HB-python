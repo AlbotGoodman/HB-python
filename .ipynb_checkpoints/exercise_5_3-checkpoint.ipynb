{
 "cells": [
  {
   "cell_type": "code",
   "execution_count": 8,
   "id": "5fc0b50b",
   "metadata": {},
   "outputs": [
    {
     "name": "stdout",
     "output_type": "stream",
     "text": [
      "Ange ditt personnummer (tio siffror): 9204052196\n",
      "Du är juridiskt sett en man.\n"
     ]
    }
   ],
   "source": [
    "# 9204052196\n",
    "# 9308033803\n",
    "\n",
    "ID = input('Ange ditt personnummer (tio siffror): ')\n",
    "sex = int(ID[8])\n",
    "if sex == 0 or sex == 2 or sex == 4 or sex == 6 or sex == 8:\n",
    "        print('Du är juridiskt sett en kvinna.')\n",
    "else:\n",
    "    print('Du är juridiskt sett en man.')"
   ]
  },
  {
   "cell_type": "code",
   "execution_count": null,
   "id": "0a59e144",
   "metadata": {},
   "outputs": [],
   "source": []
  }
 ],
 "metadata": {
  "kernelspec": {
   "display_name": "Python 3 (ipykernel)",
   "language": "python",
   "name": "python3"
  },
  "language_info": {
   "codemirror_mode": {
    "name": "ipython",
    "version": 3
   },
   "file_extension": ".py",
   "mimetype": "text/x-python",
   "name": "python",
   "nbconvert_exporter": "python",
   "pygments_lexer": "ipython3",
   "version": "3.9.13"
  }
 },
 "nbformat": 4,
 "nbformat_minor": 5
}
